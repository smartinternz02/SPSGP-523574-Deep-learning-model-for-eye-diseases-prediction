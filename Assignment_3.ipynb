{
  "nbformat": 4,
  "nbformat_minor": 0,
  "metadata": {
    "colab": {
      "provenance": []
    },
    "kernelspec": {
      "name": "python3",
      "display_name": "Python 3"
    },
    "language_info": {
      "name": "python"
    }
  },
  "cells": [
    {
      "cell_type": "code",
      "execution_count": null,
      "metadata": {
        "id": "CwAh6OSXoCEW"
      },
      "outputs": [],
      "source": [
        "#@title Build a CNN model for Bird species"
      ]
    },
    {
      "cell_type": "code",
      "source": [
        "#Data augmentation\n",
        "\n",
        "from tensorflow.keras.preprocessing.image import ImageDataGenerator"
      ],
      "metadata": {
        "id": "HV63KFzxrPev"
      },
      "execution_count": null,
      "outputs": []
    },
    {
      "cell_type": "code",
      "source": [
        "train_gen = ImageDataGenerator(rescale=(1./255), horizontal_flip=True, shear_range=0.2) \n",
        "test_gen = ImageDataGenerator(rescale=(1./255))"
      ],
      "metadata": {
        "id": "N76xEgS8rPmD"
      },
      "execution_count": null,
      "outputs": []
    },
    {
      "cell_type": "code",
      "source": [
        "train = train_gen.flow_from_directory('/content/drive/MyDrive/train_data/train_data',\n",
        "                                      target_size=(120,120),\n",
        "                                      class_mode='categorical',\n",
        "                                      batch_size=8)\n",
        "\n",
        "test = test_gen.flow_from_directory('/content/drive/MyDrive/test_data/test_data',\n",
        "                                    target_size=(120,120),\n",
        "                                      class_mode='categorical',\n",
        "                                      batch_size=8)"
      ],
      "metadata": {
        "id": "N8-FdP9brPoq",
        "colab": {
          "base_uri": "https://localhost:8080/"
        },
        "outputId": "fc31161b-3cf6-4167-d1d9-01e4c811f649"
      },
      "execution_count": null,
      "outputs": [
        {
          "output_type": "stream",
          "name": "stdout",
          "text": [
            "Found 150 images belonging to 16 classes.\n",
            "Found 157 images belonging to 16 classes.\n"
          ]
        }
      ]
    },
    {
      "cell_type": "code",
      "source": [
        "train.class_indices"
      ],
      "metadata": {
        "id": "YkjKUqA8rPrR",
        "colab": {
          "base_uri": "https://localhost:8080/"
        },
        "outputId": "41ce8114-0b9b-412f-aec5-8724a488f72c"
      },
      "execution_count": null,
      "outputs": [
        {
          "output_type": "execute_result",
          "data": {
            "text/plain": [
              "{'blasti': 0,\n",
              " 'bonegl': 1,\n",
              " 'brhkyt': 2,\n",
              " 'cbrtsh': 3,\n",
              " 'cmnmyn': 4,\n",
              " 'gretit': 5,\n",
              " 'hilpig': 6,\n",
              " 'himbul': 7,\n",
              " 'himgri': 8,\n",
              " 'hsparo': 9,\n",
              " 'indvul': 10,\n",
              " 'jglowl': 11,\n",
              " 'lbicrw': 12,\n",
              " 'mgprob': 13,\n",
              " 'rebimg': 14,\n",
              " 'wcrsrt': 15}"
            ]
          },
          "metadata": {},
          "execution_count": 74
        }
      ]
    },
    {
      "cell_type": "code",
      "source": [
        "#Building the CNN model\n",
        "\n",
        "from tensorflow.keras.layers import Convolution2D, MaxPooling2D, Flatten, Dense\n",
        "from tensorflow.keras.models import Sequential"
      ],
      "metadata": {
        "id": "p4NTRLdfrPuE"
      },
      "execution_count": null,
      "outputs": []
    },
    {
      "cell_type": "code",
      "source": [
        "model = Sequential()\n",
        "\n",
        "#Adding CNN Layers\n",
        "model.add(Convolution2D(20,(3,3),activation='relu',input_shape=(120,120,3)))\n",
        "model.add(MaxPooling2D(pool_size=(2, 2)))\n",
        "model.add(Flatten())\n",
        "#Building ANN from here\n",
        "model.add(Dense(45,activation='relu'))\n",
        "model.add(Dense(16,activation='softmax'))\n"
      ],
      "metadata": {
        "id": "RZ7Wc0UutbQN"
      },
      "execution_count": null,
      "outputs": []
    },
    {
      "cell_type": "code",
      "source": [
        "#Compiling the model\n",
        "\n",
        "model.compile(optimizer='Adam', loss='categorical_crossentropy', metrics=['accuracy'])"
      ],
      "metadata": {
        "id": "ac2CGgn8tbTm"
      },
      "execution_count": null,
      "outputs": []
    },
    {
      "cell_type": "code",
      "source": [
        "model.summary()"
      ],
      "metadata": {
        "colab": {
          "base_uri": "https://localhost:8080/"
        },
        "id": "Jxf4dhEQxOy2",
        "outputId": "1a3fb64a-5aed-479e-e86d-42674e50622c"
      },
      "execution_count": null,
      "outputs": [
        {
          "output_type": "stream",
          "name": "stdout",
          "text": [
            "Model: \"sequential_6\"\n",
            "_________________________________________________________________\n",
            " Layer (type)                Output Shape              Param #   \n",
            "=================================================================\n",
            " conv2d_16 (Conv2D)          (None, 118, 118, 20)      560       \n",
            "                                                                 \n",
            " max_pooling2d_16 (MaxPoolin  (None, 59, 59, 20)       0         \n",
            " g2D)                                                            \n",
            "                                                                 \n",
            " flatten_6 (Flatten)         (None, 69620)             0         \n",
            "                                                                 \n",
            " dense_17 (Dense)            (None, 45)                3132945   \n",
            "                                                                 \n",
            " dense_18 (Dense)            (None, 16)                736       \n",
            "                                                                 \n",
            "=================================================================\n",
            "Total params: 3,134,241\n",
            "Trainable params: 3,134,241\n",
            "Non-trainable params: 0\n",
            "_________________________________________________________________\n"
          ]
        }
      ]
    },
    {
      "cell_type": "code",
      "source": [
        "model.fit(train,batch_size=8,validation_data=test,epochs=10)"
      ],
      "metadata": {
        "colab": {
          "base_uri": "https://localhost:8080/"
        },
        "id": "ouMzDAz62d_S",
        "outputId": "521eb718-73aa-427b-f23b-aa2d95549a9e"
      },
      "execution_count": null,
      "outputs": [
        {
          "output_type": "stream",
          "name": "stdout",
          "text": [
            "Epoch 1/10\n",
            "19/19 [==============================] - 116s 6s/step - loss: 4.3850 - accuracy: 0.0733 - val_loss: 2.8194 - val_accuracy: 0.1465\n",
            "Epoch 2/10\n",
            "19/19 [==============================] - 129s 7s/step - loss: 2.7154 - accuracy: 0.1333 - val_loss: 2.8232 - val_accuracy: 0.1210\n",
            "Epoch 3/10\n",
            "19/19 [==============================] - 130s 7s/step - loss: 2.5324 - accuracy: 0.1333 - val_loss: 2.8714 - val_accuracy: 0.0892\n",
            "Epoch 4/10\n",
            "19/19 [==============================] - 117s 6s/step - loss: 2.4021 - accuracy: 0.2000 - val_loss: 2.8397 - val_accuracy: 0.1656\n",
            "Epoch 5/10\n",
            "19/19 [==============================] - 138s 8s/step - loss: 2.2583 - accuracy: 0.2667 - val_loss: 2.8454 - val_accuracy: 0.1274\n",
            "Epoch 6/10\n",
            "19/19 [==============================] - 134s 7s/step - loss: 2.0473 - accuracy: 0.2867 - val_loss: 2.8763 - val_accuracy: 0.2038\n",
            "Epoch 7/10\n",
            "19/19 [==============================] - 134s 7s/step - loss: 1.9058 - accuracy: 0.3467 - val_loss: 2.9594 - val_accuracy: 0.1720\n",
            "Epoch 8/10\n",
            "19/19 [==============================] - 109s 6s/step - loss: 1.8281 - accuracy: 0.3933 - val_loss: 3.0396 - val_accuracy: 0.2420\n",
            "Epoch 9/10\n",
            "19/19 [==============================] - 131s 7s/step - loss: 1.6002 - accuracy: 0.5000 - val_loss: 3.1568 - val_accuracy: 0.2293\n",
            "Epoch 10/10\n",
            "19/19 [==============================] - 116s 6s/step - loss: 1.5075 - accuracy: 0.5067 - val_loss: 3.1893 - val_accuracy: 0.1911\n"
          ]
        },
        {
          "output_type": "execute_result",
          "data": {
            "text/plain": [
              "<keras.callbacks.History at 0x7fd330247df0>"
            ]
          },
          "metadata": {},
          "execution_count": 79
        }
      ]
    },
    {
      "cell_type": "code",
      "source": [
        "#Testing the model\n",
        "\n",
        "import numpy as np\n",
        "from tensorflow.keras.preprocessing import image\n",
        "img = image.load_img('/content/Pegion.jpg',target_size=(120,120))\n",
        "img"
      ],
      "metadata": {
        "id": "U_8BXj_jtnnP",
        "colab": {
          "base_uri": "https://localhost:8080/",
          "height": 137
        },
        "outputId": "6245737b-10af-4a85-bd5c-a575afa6f6b7"
      },
      "execution_count": null,
      "outputs": [
        {
          "output_type": "execute_result",
          "data": {
            "text/plain": [
              "<PIL.Image.Image image mode=RGB size=120x120 at 0x7FD3303679D0>"
            ],
            "image/png": "[encoded data removed]"
          },
          "metadata": {},
          "execution_count": 81
        }
      ]
    },
    {
      "cell_type": "code",
      "source": [
        "img = image.img_to_array(img)\n",
        "img = np.expand_dims(img,axis=0)\n",
        "img"
      ],
      "metadata": {
        "colab": {
          "base_uri": "https://localhost:8080/"
        },
        "id": "GIO-VA8m_oMD",
        "outputId": "e75d1e23-5738-45c6-9334-09a50951bab6"
      },
      "execution_count": null,
      "outputs": [
        {
          "output_type": "execute_result",
          "data": {
            "text/plain": [
              "array([[[[ 44.,  56.,  42.],\n",
              "         [ 53.,  64.,  48.],\n",
              "         [ 60.,  72.,  52.],\n",
              "         ...,\n",
              "         [ 56.,  63.,  45.],\n",
              "         [ 51.,  60.,  41.],\n",
              "         [ 48.,  55.,  39.]],\n",
              "\n",
              "        [[ 41.,  55.,  40.],\n",
              "         [ 47.,  61.,  44.],\n",
              "         [ 57.,  70.,  50.],\n",
              "         ...,\n",
              "         [ 54.,  63.,  44.],\n",
              "         [ 50.,  59.,  40.],\n",
              "         [ 44.,  53.,  36.]],\n",
              "\n",
              "        [[ 41.,  53.,  41.],\n",
              "         [ 45.,  59.,  44.],\n",
              "         [ 56.,  69.,  51.],\n",
              "         ...,\n",
              "         [ 53.,  57.,  42.],\n",
              "         [ 48.,  55.,  39.],\n",
              "         [ 43.,  49.,  35.]],\n",
              "\n",
              "        ...,\n",
              "\n",
              "        [[142., 118.,  70.],\n",
              "         [235., 220., 197.],\n",
              "         [212., 178., 151.],\n",
              "         ...,\n",
              "         [231., 230., 226.],\n",
              "         [235., 233., 220.],\n",
              "         [234., 232., 219.]],\n",
              "\n",
              "        [[234., 233., 229.],\n",
              "         [246., 238., 235.],\n",
              "         [241., 241., 239.],\n",
              "         ...,\n",
              "         [221., 211., 201.],\n",
              "         [225., 217., 204.],\n",
              "         [233., 219., 192.]],\n",
              "\n",
              "        [[222., 219., 212.],\n",
              "         [232., 216., 201.],\n",
              "         [189., 189., 189.],\n",
              "         ...,\n",
              "         [221., 221., 213.],\n",
              "         [216., 215., 213.],\n",
              "         [233., 230., 225.]]]], dtype=float32)"
            ]
          },
          "metadata": {},
          "execution_count": 82
        }
      ]
    },
    {
      "cell_type": "code",
      "source": [
        "model.predict(img)"
      ],
      "metadata": {
        "colab": {
          "base_uri": "https://localhost:8080/"
        },
        "id": "82fXF_tm_oSS",
        "outputId": "1c1afb1a-cc5d-49ec-944b-1e0cf0f1fbe7"
      },
      "execution_count": null,
      "outputs": [
        {
          "output_type": "stream",
          "name": "stdout",
          "text": [
            "1/1 [==============================] - 0s 121ms/step\n"
          ]
        },
        {
          "output_type": "execute_result",
          "data": {
            "text/plain": [
              "array([[0., 0., 0., 0., 0., 0., 0., 0., 0., 1., 0., 0., 0., 0., 0., 0.]],\n",
              "      dtype=float32)"
            ]
          },
          "metadata": {},
          "execution_count": 83
        }
      ]
    },
    {
      "cell_type": "code",
      "source": [
        "pred = np.argmax(model.predict(img))"
      ],
      "metadata": {
        "id": "7kXF3lkh3-HY",
        "colab": {
          "base_uri": "https://localhost:8080/"
        },
        "outputId": "b03fc0e8-fc13-4cb4-aedb-1dab3b1747ea"
      },
      "execution_count": null,
      "outputs": [
        {
          "output_type": "stream",
          "name": "stdout",
          "text": [
            "1/1 [==============================] - 0s 40ms/step\n"
          ]
        }
      ]
    },
    {
      "cell_type": "code",
      "source": [
        "output = ['blasti','bonegl', 'brhkyt', 'cbrtsh','cmnmyn', 'gretit', 'hilpig', 'himbul', 'himgri','hsparo','indvul', 'jglowl', 'lbicrw', 'mgprob', 'rebimg', 'wcrsrt']\n",
        "output[pred]"
      ],
      "metadata": {
        "colab": {
          "base_uri": "https://localhost:8080/",
          "height": 36
        },
        "id": "JlzxmZa_Syhv",
        "outputId": "0439e6c6-f438-468a-b903-498722ea7c0b"
      },
      "execution_count": null,
      "outputs": [
        {
          "output_type": "execute_result",
          "data": {
            "text/plain": [
              "'hsparo'"
            ],
            "application/vnd.google.colaboratory.intrinsic+json": {
              "type": "string"
            }
          },
          "metadata": {},
          "execution_count": 85
        }
      ]
    },
    {
      "cell_type": "code",
      "source": [
        "#Training 1\n",
        "img1 = image.load_img('/content/An condor.jfif', target_size=(120,120))\n",
        "img1 = image.img_to_array(img1)\n",
        "img1 = np.expand_dims(img1,axis=0)\n",
        "pred = np.argmax(model.predict(img1))\n",
        "print(pred)\n",
        "output = ['blasti','bonegl', 'brhkyt', 'cbrtsh','cmnmyn', 'gretit', 'hilpig', 'himbul', 'himgri','hsparo','indvul', 'jglowl', 'lbicrw', 'mgprob', 'rebimg', 'wcrsrt']\n",
        "output[pred]"
      ],
      "metadata": {
        "colab": {
          "base_uri": "https://localhost:8080/",
          "height": 70
        },
        "id": "APuf2srgFfAg",
        "outputId": "31101c71-9f41-468d-e948-3ca561b64c3d"
      },
      "execution_count": null,
      "outputs": [
        {
          "output_type": "stream",
          "name": "stdout",
          "text": [
            "1/1 [==============================] - 0s 29ms/step\n",
            "8\n"
          ]
        },
        {
          "output_type": "execute_result",
          "data": {
            "text/plain": [
              "'himgri'"
            ],
            "application/vnd.google.colaboratory.intrinsic+json": {
              "type": "string"
            }
          },
          "metadata": {},
          "execution_count": 86
        }
      ]
    },
    {
      "cell_type": "code",
      "source": [
        "#testing 2\n",
        "img1 = image.load_img('/content/Common Myna.jfif', target_size=(120,120))\n",
        "img1 = image.img_to_array(img1)\n",
        "img1 = np.expand_dims(img1,axis=0)\n",
        "pred = np.argmax(model.predict(img1))\n",
        "print(pred)\n",
        "output = ['blasti','bonegl', 'brhkyt', 'cbrtsh','cmnmyn', 'gretit', 'hilpig', 'himbul', 'himgri','hsparo','indvul', 'jglowl', 'lbicrw', 'mgprob', 'rebimg', 'wcrsrt']\n",
        "output[pred]"
      ],
      "metadata": {
        "colab": {
          "base_uri": "https://localhost:8080/",
          "height": 70
        },
        "id": "8YuWadS7Ffcw",
        "outputId": "8f43b6f0-9544-4fc2-b694-df2a4cc3b3dd"
      },
      "execution_count": null,
      "outputs": [
        {
          "output_type": "stream",
          "name": "stdout",
          "text": [
            "1/1 [==============================] - 0s 41ms/step\n",
            "0\n"
          ]
        },
        {
          "output_type": "execute_result",
          "data": {
            "text/plain": [
              "'blasti'"
            ],
            "application/vnd.google.colaboratory.intrinsic+json": {
              "type": "string"
            }
          },
          "metadata": {},
          "execution_count": 88
        }
      ]
    },
    {
      "cell_type": "code",
      "source": [
        "#Training 3\n",
        "img1 = image.load_img('/content/Cinereous tit.jfif', target_size=(120,120))\n",
        "img1 = image.img_to_array(img1)\n",
        "img1 = np.expand_dims(img1,axis=0)\n",
        "pred = np.argmax(model.predict(img1))\n",
        "print(pred)\n",
        "output = ['blasti','bonegl', 'brhkyt', 'cbrtsh','cmnmyn', 'gretit', 'hilpig', 'himbul', 'himgri','hsparo','indvul', 'jglowl', 'lbicrw', 'mgprob', 'rebimg', 'wcrsrt']\n",
        "output[pred]"
      ],
      "metadata": {
        "colab": {
          "base_uri": "https://localhost:8080/",
          "height": 70
        },
        "id": "iQQnYcCIFfn1",
        "outputId": "998d22f4-a7a4-4fbb-f78b-668612c30e05"
      },
      "execution_count": null,
      "outputs": [
        {
          "output_type": "stream",
          "name": "stdout",
          "text": [
            "1/1 [==============================] - 0s 31ms/step\n",
            "7\n"
          ]
        },
        {
          "output_type": "execute_result",
          "data": {
            "text/plain": [
              "'himbul'"
            ],
            "application/vnd.google.colaboratory.intrinsic+json": {
              "type": "string"
            }
          },
          "metadata": {},
          "execution_count": 89
        }
      ]
    },
    {
      "cell_type": "code",
      "source": [
        "#Training 4\n",
        "img1 = image.load_img('/content/Bellied Rock Thrush.jfif', target_size=(120,120))\n",
        "img1 = image.img_to_array(img1)\n",
        "img1 = np.expand_dims(img1,axis=0)\n",
        "pred = np.argmax(model.predict(img1))\n",
        "print(pred)\n",
        "output = ['blasti','bonegl', 'brhkyt', 'cbrtsh','cmnmyn', 'gretit', 'hilpig', 'himbul', 'himgri','hsparo','indvul', 'jglowl', 'lbicrw', 'mgprob', 'rebimg', 'wcrsrt']\n",
        "output[pred]"
      ],
      "metadata": {
        "colab": {
          "base_uri": "https://localhost:8080/",
          "height": 70
        },
        "id": "Cn6u-pqVFfyX",
        "outputId": "6da0b89e-18db-4ed9-f6e8-e8ac74040f2b"
      },
      "execution_count": null,
      "outputs": [
        {
          "output_type": "stream",
          "name": "stdout",
          "text": [
            "1/1 [==============================] - 0s 46ms/step\n",
            "7\n"
          ]
        },
        {
          "output_type": "execute_result",
          "data": {
            "text/plain": [
              "'himbul'"
            ],
            "application/vnd.google.colaboratory.intrinsic+json": {
              "type": "string"
            }
          },
          "metadata": {},
          "execution_count": 90
        }
      ]
    },
    {
      "cell_type": "code",
      "source": [
        "#Training 5\n",
        "img1 = image.load_img('/content/Crow.jpg', target_size=(120,120))\n",
        "img1 = image.img_to_array(img1)\n",
        "img1 = np.expand_dims(img1,axis=0)\n",
        "pred = np.argmax(model.predict(img1))\n",
        "print(pred)\n",
        "output = ['blasti','bonegl', 'brhkyt', 'cbrtsh','cmnmyn', 'gretit', 'hilpig', 'himbul', 'himgri','hsparo','indvul', 'jglowl', 'lbicrw', 'mgprob', 'rebimg', 'wcrsrt']\n",
        "output[pred]"
      ],
      "metadata": {
        "colab": {
          "base_uri": "https://localhost:8080/",
          "height": 70
        },
        "id": "j_FpxnYiFf8A",
        "outputId": "5bce5a60-71fd-4a89-e7b6-2dbde707659c"
      },
      "execution_count": null,
      "outputs": [
        {
          "output_type": "stream",
          "name": "stdout",
          "text": [
            "1/1 [==============================] - 0s 28ms/step\n",
            "9\n"
          ]
        },
        {
          "output_type": "execute_result",
          "data": {
            "text/plain": [
              "'hsparo'"
            ],
            "application/vnd.google.colaboratory.intrinsic+json": {
              "type": "string"
            }
          },
          "metadata": {},
          "execution_count": 91
        }
      ]
    },
    {
      "cell_type": "code",
      "source": [
        "#Training 6\n",
        "img1 = image.load_img('/content/Himalayan Bulbul.jpg', target_size=(120,120))\n",
        "img1 = image.img_to_array(img1)\n",
        "img1 = np.expand_dims(img1,axis=0)\n",
        "pred = np.argmax(model.predict(img1))\n",
        "print(pred)\n",
        "output = ['blasti','bonegl', 'brhkyt', 'cbrtsh','cmnmyn', 'gretit', 'hilpig', 'himbul', 'himgri','hsparo','indvul', 'jglowl', 'lbicrw', 'mgprob', 'rebimg', 'wcrsrt']\n",
        "output[pred]"
      ],
      "metadata": {
        "colab": {
          "base_uri": "https://localhost:8080/",
          "height": 70
        },
        "id": "qMMHNMCnFgFt",
        "outputId": "fdb894bd-d858-4df0-892c-e5f9ac50b1bb"
      },
      "execution_count": null,
      "outputs": [
        {
          "output_type": "stream",
          "name": "stdout",
          "text": [
            "1/1 [==============================] - 0s 39ms/step\n",
            "0\n"
          ]
        },
        {
          "output_type": "execute_result",
          "data": {
            "text/plain": [
              "'blasti'"
            ],
            "application/vnd.google.colaboratory.intrinsic+json": {
              "type": "string"
            }
          },
          "metadata": {},
          "execution_count": 92
        }
      ]
    },
    {
      "cell_type": "code",
      "source": [
        "#Training 7\n",
        "img1 = image.load_img('/content/Kyte.jfif', target_size=(120,120))\n",
        "img1 = image.img_to_array(img1)\n",
        "img1 = np.expand_dims(img1,axis=0)\n",
        "pred = np.argmax(model.predict(img1))\n",
        "print(pred)\n",
        "output = ['blasti','bonegl', 'brhkyt', 'cbrtsh','cmnmyn', 'gretit', 'hilpig', 'himbul', 'himgri','hsparo','indvul', 'jglowl', 'lbicrw', 'mgprob', 'rebimg', 'wcrsrt']\n",
        "output[pred]"
      ],
      "metadata": {
        "colab": {
          "base_uri": "https://localhost:8080/",
          "height": 70
        },
        "id": "a_SGBZWrFgQk",
        "outputId": "6f42bda7-c843-490e-f649-115ec6f04ac5"
      },
      "execution_count": null,
      "outputs": [
        {
          "output_type": "stream",
          "name": "stdout",
          "text": [
            "1/1 [==============================] - 0s 32ms/step\n",
            "8\n"
          ]
        },
        {
          "output_type": "execute_result",
          "data": {
            "text/plain": [
              "'himgri'"
            ],
            "application/vnd.google.colaboratory.intrinsic+json": {
              "type": "string"
            }
          },
          "metadata": {},
          "execution_count": 93
        }
      ]
    },
    {
      "cell_type": "code",
      "source": [
        "#Training 8\n",
        "img1 = image.load_img('/content/Magpie.jpg', target_size=(120,120))\n",
        "img1 = image.img_to_array(img1)\n",
        "img1 = np.expand_dims(img1,axis=0)\n",
        "pred = np.argmax(model.predict(img1))\n",
        "print(pred)\n",
        "output = ['blasti','bonegl', 'brhkyt', 'cbrtsh','cmnmyn', 'gretit', 'hilpig', 'himbul', 'himgri','hsparo','indvul', 'jglowl', 'lbicrw', 'mgprob', 'rebimg', 'wcrsrt']\n",
        "output[pred]"
      ],
      "metadata": {
        "colab": {
          "base_uri": "https://localhost:8080/",
          "height": 70
        },
        "id": "6oDSFMc8FgZh",
        "outputId": "a2a7fe47-c6e1-4390-ba86-821a88a15aa5"
      },
      "execution_count": null,
      "outputs": [
        {
          "output_type": "stream",
          "name": "stdout",
          "text": [
            "1/1 [==============================] - 0s 30ms/step\n",
            "9\n"
          ]
        },
        {
          "output_type": "execute_result",
          "data": {
            "text/plain": [
              "'hsparo'"
            ],
            "application/vnd.google.colaboratory.intrinsic+json": {
              "type": "string"
            }
          },
          "metadata": {},
          "execution_count": 94
        }
      ]
    },
    {
      "cell_type": "code",
      "source": [
        "#Training 9\n",
        "img1 = image.load_img('/content/OWL.jfif', target_size=(120,120))\n",
        "img1 = image.img_to_array(img1)\n",
        "img1 = np.expand_dims(img1,axis=0)\n",
        "pred = np.argmax(model.predict(img1))\n",
        "print(pred)\n",
        "output = ['blasti','bonegl', 'brhkyt', 'cbrtsh','cmnmyn', 'gretit', 'hilpig', 'himbul', 'himgri','hsparo','indvul', 'jglowl', 'lbicrw', 'mgprob', 'rebimg', 'wcrsrt']\n",
        "output[pred]"
      ],
      "metadata": {
        "colab": {
          "base_uri": "https://localhost:8080/",
          "height": 70
        },
        "id": "rP-paHBFFgk8",
        "outputId": "c44bf129-7e2e-4944-8202-ae77672ad77a"
      },
      "execution_count": null,
      "outputs": [
        {
          "output_type": "stream",
          "name": "stdout",
          "text": [
            "1/1 [==============================] - 0s 27ms/step\n",
            "7\n"
          ]
        },
        {
          "output_type": "execute_result",
          "data": {
            "text/plain": [
              "'himbul'"
            ],
            "application/vnd.google.colaboratory.intrinsic+json": {
              "type": "string"
            }
          },
          "metadata": {},
          "execution_count": 95
        }
      ]
    },
    {
      "cell_type": "code",
      "source": [
        "#Training 10\n",
        "img1 = image.load_img('/content/Pegion.jpg', target_size=(120,120))\n",
        "img1 = image.img_to_array(img1)\n",
        "img1 = np.expand_dims(img1,axis=0)\n",
        "pred = np.argmax(model.predict(img1))\n",
        "print(pred)\n",
        "output = ['blasti','bonegl', 'brhkyt', 'cbrtsh','cmnmyn', 'gretit', 'hilpig', 'himbul', 'himgri','hsparo','indvul', 'jglowl', 'lbicrw', 'mgprob', 'rebimg', 'wcrsrt']\n",
        "output[pred]"
      ],
      "metadata": {
        "colab": {
          "base_uri": "https://localhost:8080/",
          "height": 70
        },
        "id": "VAbg3oMyFguZ",
        "outputId": "df656c41-89a3-40c5-db76-990d05caf1ad"
      },
      "execution_count": null,
      "outputs": [
        {
          "output_type": "stream",
          "name": "stdout",
          "text": [
            "1/1 [==============================] - 0s 26ms/step\n",
            "9\n"
          ]
        },
        {
          "output_type": "execute_result",
          "data": {
            "text/plain": [
              "'hsparo'"
            ],
            "application/vnd.google.colaboratory.intrinsic+json": {
              "type": "string"
            }
          },
          "metadata": {},
          "execution_count": 96
        }
      ]
    },
    {
      "cell_type": "code",
      "source": [
        "#Training 11\n",
        "img1 = image.load_img('/content/Vulture.jpg', target_size=(120,120))\n",
        "img1 = image.img_to_array(img1)\n",
        "img1 = np.expand_dims(img1,axis=0)\n",
        "pred = np.argmax(model.predict(img1))\n",
        "print(pred)\n",
        "output = ['blasti','bonegl', 'brhkyt', 'cbrtsh','cmnmyn', 'gretit', 'hilpig', 'himbul', 'himgri','hsparo','indvul', 'jglowl', 'lbicrw', 'mgprob', 'rebimg', 'wcrsrt']\n",
        "output[pred]"
      ],
      "metadata": {
        "colab": {
          "base_uri": "https://localhost:8080/",
          "height": 70
        },
        "id": "wgPwaDXsFg3H",
        "outputId": "58ba54ed-ed0a-40b1-bc29-6e002bed4d77"
      },
      "execution_count": null,
      "outputs": [
        {
          "output_type": "stream",
          "name": "stdout",
          "text": [
            "1/1 [==============================] - 0s 25ms/step\n",
            "8\n"
          ]
        },
        {
          "output_type": "execute_result",
          "data": {
            "text/plain": [
              "'himgri'"
            ],
            "application/vnd.google.colaboratory.intrinsic+json": {
              "type": "string"
            }
          },
          "metadata": {},
          "execution_count": 97
        }
      ]
    },
    {
      "cell_type": "code",
      "source": [
        "#Training 12\n",
        "img1 = image.load_img('/content/avocet.jpg', target_size=(120,120))\n",
        "img1 = image.img_to_array(img1)\n",
        "img1 = np.expand_dims(img1,axis=0)\n",
        "pred = np.argmax(model.predict(img1))\n",
        "print(pred)\n",
        "output = ['blasti','bonegl', 'brhkyt', 'cbrtsh','cmnmyn', 'gretit', 'hilpig', 'himbul', 'himgri','hsparo','indvul', 'jglowl', 'lbicrw', 'mgprob', 'rebimg', 'wcrsrt']\n",
        "output[pred]"
      ],
      "metadata": {
        "colab": {
          "base_uri": "https://localhost:8080/",
          "height": 70
        },
        "id": "o6fJMYysFhAh",
        "outputId": "41647328-b1ea-46e6-cbb3-8ec34d61f7e9"
      },
      "execution_count": null,
      "outputs": [
        {
          "output_type": "stream",
          "name": "stdout",
          "text": [
            "1/1 [==============================] - 0s 27ms/step\n",
            "9\n"
          ]
        },
        {
          "output_type": "execute_result",
          "data": {
            "text/plain": [
              "'hsparo'"
            ],
            "application/vnd.google.colaboratory.intrinsic+json": {
              "type": "string"
            }
          },
          "metadata": {},
          "execution_count": 98
        }
      ]
    },
    {
      "cell_type": "code",
      "source": [
        "#Training 13\n",
        "img1 = image.load_img('/content/eagle.jfif', target_size=(120,120))\n",
        "img1 = image.img_to_array(img1)\n",
        "img1 = np.expand_dims(img1,axis=0)\n",
        "pred = np.argmax(model.predict(img1))\n",
        "print(pred)\n",
        "output = ['blasti','bonegl', 'brhkyt', 'cbrtsh','cmnmyn', 'gretit', 'hilpig', 'himbul', 'himgri','hsparo','indvul', 'jglowl', 'lbicrw', 'mgprob', 'rebimg', 'wcrsrt']\n",
        "output[pred]"
      ],
      "metadata": {
        "colab": {
          "base_uri": "https://localhost:8080/",
          "height": 70
        },
        "id": "YhZykDWlFhKd",
        "outputId": "f0b405b7-24d9-4528-afed-bf37cb9c1077"
      },
      "execution_count": null,
      "outputs": [
        {
          "output_type": "stream",
          "name": "stdout",
          "text": [
            "1/1 [==============================] - 0s 41ms/step\n",
            "8\n"
          ]
        },
        {
          "output_type": "execute_result",
          "data": {
            "text/plain": [
              "'himgri'"
            ],
            "application/vnd.google.colaboratory.intrinsic+json": {
              "type": "string"
            }
          },
          "metadata": {},
          "execution_count": 99
        }
      ]
    },
    {
      "cell_type": "code",
      "source": [
        "#Training 14\n",
        "img1 = image.load_img('/content/red-blue-magpie.jfif', target_size=(120,120))\n",
        "img1 = image.img_to_array(img1)\n",
        "img1 = np.expand_dims(img1,axis=0)\n",
        "pred = np.argmax(model.predict(img1))\n",
        "print(pred)\n",
        "output = ['blasti','bonegl', 'brhkyt', 'cbrtsh','cmnmyn', 'gretit', 'hilpig', 'himbul', 'himgri','hsparo','indvul', 'jglowl', 'lbicrw', 'mgprob', 'rebimg', 'wcrsrt']\n",
        "output[pred]"
      ],
      "metadata": {
        "colab": {
          "base_uri": "https://localhost:8080/",
          "height": 70
        },
        "id": "UkehXICpFhVG",
        "outputId": "0a09ea1b-2cac-4fbf-92db-12424598611f"
      },
      "execution_count": null,
      "outputs": [
        {
          "output_type": "stream",
          "name": "stdout",
          "text": [
            "1/1 [==============================] - 0s 28ms/step\n",
            "7\n"
          ]
        },
        {
          "output_type": "execute_result",
          "data": {
            "text/plain": [
              "'himbul'"
            ],
            "application/vnd.google.colaboratory.intrinsic+json": {
              "type": "string"
            }
          },
          "metadata": {},
          "execution_count": 100
        }
      ]
    },
    {
      "cell_type": "code",
      "source": [
        "#Training 15\n",
        "img1 = image.load_img('/content/white-capped-redstart.jpg', target_size=(120,120))\n",
        "img1 = image.img_to_array(img1)\n",
        "img1 = np.expand_dims(img1,axis=0)\n",
        "pred = np.argmax(model.predict(img1))\n",
        "print(pred)\n",
        "output = ['blasti','bonegl', 'brhkyt', 'cbrtsh','cmnmyn', 'gretit', 'hilpig', 'himbul', 'himgri','hsparo','indvul', 'jglowl', 'lbicrw', 'mgprob', 'rebimg', 'wcrsrt']\n",
        "output[pred]"
      ],
      "metadata": {
        "colab": {
          "base_uri": "https://localhost:8080/",
          "height": 70
        },
        "id": "VsEsfKqAFheO",
        "outputId": "2381cdf7-ab17-4885-f593-1a1d7a358c45"
      },
      "execution_count": null,
      "outputs": [
        {
          "output_type": "stream",
          "name": "stdout",
          "text": [
            "1/1 [==============================] - 0s 29ms/step\n",
            "0\n"
          ]
        },
        {
          "output_type": "execute_result",
          "data": {
            "text/plain": [
              "'blasti'"
            ],
            "application/vnd.google.colaboratory.intrinsic+json": {
              "type": "string"
            }
          },
          "metadata": {},
          "execution_count": 101
        }
      ]
    },
    {
      "cell_type": "code",
      "source": [
        "#Training 16\n",
        "img1 = image.load_img('/content/sparrow.jfif', target_size=(120,120))\n",
        "img1 = image.img_to_array(img1)\n",
        "img1 = np.expand_dims(img1,axis=0)\n",
        "pred = np.argmax(model.predict(img1))\n",
        "print(pred)\n",
        "output = ['blasti','bonegl', 'brhkyt', 'cbrtsh','cmnmyn', 'gretit', 'hilpig', 'himbul', 'himgri','hsparo','indvul', 'jglowl', 'lbicrw', 'mgprob', 'rebimg', 'wcrsrt']\n",
        "output[pred]"
      ],
      "metadata": {
        "colab": {
          "base_uri": "https://localhost:8080/",
          "height": 70
        },
        "id": "NkRxSMcUG30Q",
        "outputId": "a70eea84-d8c5-4610-e52c-92cba5e4d3b9"
      },
      "execution_count": null,
      "outputs": [
        {
          "output_type": "stream",
          "name": "stdout",
          "text": [
            "1/1 [==============================] - 0s 44ms/step\n",
            "9\n"
          ]
        },
        {
          "output_type": "execute_result",
          "data": {
            "text/plain": [
              "'hsparo'"
            ],
            "application/vnd.google.colaboratory.intrinsic+json": {
              "type": "string"
            }
          },
          "metadata": {},
          "execution_count": 102
        }
      ]
    },
    {
      "cell_type": "code",
      "source": [
        "##As we are getting wrong output, we will tune the model by adding more layers"
      ],
      "metadata": {
        "id": "OiRID-CYSylL"
      },
      "execution_count": null,
      "outputs": []
    },
    {
      "cell_type": "code",
      "source": [
        "#@title Model tuning\n",
        "\n",
        "model = Sequential()\n",
        "\n",
        "#Adding CNN Layers\n",
        "model.add(Convolution2D(12,(3,3),activation='relu',input_shape=(120,120,3)))\n",
        "model.add(MaxPooling2D(pool_size=(2, 2)))\n",
        "\n",
        "model.add(Convolution2D(24,(3,3),activation='relu',input_shape=(120,120,3)))\n",
        "model.add(MaxPooling2D(pool_size=(2, 2)))\n",
        "\n",
        "model.add(Convolution2D(36,(3,3),activation='relu',input_shape=(120,120,3)))\n",
        "model.add(MaxPooling2D(pool_size=(2, 2)))\n",
        "\n",
        "model.add(Flatten())\n",
        "#Building ANN from here\n",
        "model.add(Dense(62,activation='relu'))\n",
        "model.add(Dense(32,activation='relu'))\n",
        "#model.add(Dense(16,activation='relu'))\n",
        "model.add(Dense(16,activation='softmax'))"
      ],
      "metadata": {
        "id": "BYDcwVqLrPxT"
      },
      "execution_count": null,
      "outputs": []
    },
    {
      "cell_type": "code",
      "source": [
        "model.summary()"
      ],
      "metadata": {
        "colab": {
          "base_uri": "https://localhost:8080/"
        },
        "id": "T-dCPou6_atB",
        "outputId": "c3b0147a-69f5-4e27-e88a-7ca50bf6e278"
      },
      "execution_count": null,
      "outputs": [
        {
          "output_type": "stream",
          "name": "stdout",
          "text": [
            "Model: \"sequential_7\"\n",
            "_________________________________________________________________\n",
            " Layer (type)                Output Shape              Param #   \n",
            "=================================================================\n",
            " conv2d_17 (Conv2D)          (None, 118, 118, 12)      336       \n",
            "                                                                 \n",
            " max_pooling2d_17 (MaxPoolin  (None, 59, 59, 12)       0         \n",
            " g2D)                                                            \n",
            "                                                                 \n",
            " conv2d_18 (Conv2D)          (None, 57, 57, 24)        2616      \n",
            "                                                                 \n",
            " max_pooling2d_18 (MaxPoolin  (None, 28, 28, 24)       0         \n",
            " g2D)                                                            \n",
            "                                                                 \n",
            " conv2d_19 (Conv2D)          (None, 26, 26, 36)        7812      \n",
            "                                                                 \n",
            " max_pooling2d_19 (MaxPoolin  (None, 13, 13, 36)       0         \n",
            " g2D)                                                            \n",
            "                                                                 \n",
            " flatten_7 (Flatten)         (None, 6084)              0         \n",
            "                                                                 \n",
            " dense_19 (Dense)            (None, 62)                377270    \n",
            "                                                                 \n",
            " dense_20 (Dense)            (None, 32)                2016      \n",
            "                                                                 \n",
            " dense_21 (Dense)            (None, 16)                528       \n",
            "                                                                 \n",
            "=================================================================\n",
            "Total params: 390,578\n",
            "Trainable params: 390,578\n",
            "Non-trainable params: 0\n",
            "_________________________________________________________________\n"
          ]
        }
      ]
    },
    {
      "cell_type": "code",
      "source": [
        "model.compile(optimizer='adam', loss='categorical_crossentropy', metrics=['accuracy'])"
      ],
      "metadata": {
        "id": "BLFWukh__1RT"
      },
      "execution_count": null,
      "outputs": []
    },
    {
      "cell_type": "code",
      "source": [
        "model.fit(train,batch_size=8,validation_data=test,epochs=50)"
      ],
      "metadata": {
        "colab": {
          "base_uri": "https://localhost:8080/"
        },
        "id": "Kiol62Fe_1Uv",
        "outputId": "58f4bf6a-bd8b-40b7-e655-87cabaf81e77"
      },
      "execution_count": null,
      "outputs": [
        {
          "output_type": "stream",
          "name": "stdout",
          "text": [
            "Epoch 1/50\n",
            "19/19 [==============================] - 130s 7s/step - loss: 2.7188 - accuracy: 0.1533 - val_loss: 2.6932 - val_accuracy: 0.2102\n",
            "Epoch 2/50\n",
            "19/19 [==============================] - 136s 7s/step - loss: 2.5300 - accuracy: 0.2333 - val_loss: 2.6903 - val_accuracy: 0.2038\n",
            "Epoch 3/50\n",
            "19/19 [==============================] - 137s 8s/step - loss: 2.3663 - accuracy: 0.2667 - val_loss: 2.6762 - val_accuracy: 0.1911\n",
            "Epoch 4/50\n",
            "19/19 [==============================] - 129s 7s/step - loss: 2.4333 - accuracy: 0.2800 - val_loss: 2.6627 - val_accuracy: 0.1401\n",
            "Epoch 5/50\n",
            "19/19 [==============================] - 129s 7s/step - loss: 2.2542 - accuracy: 0.3067 - val_loss: 2.6770 - val_accuracy: 0.1592\n",
            "Epoch 6/50\n",
            "19/19 [==============================] - 128s 7s/step - loss: 2.1391 - accuracy: 0.3467 - val_loss: 2.6107 - val_accuracy: 0.1975\n",
            "Epoch 7/50\n",
            "19/19 [==============================] - 128s 7s/step - loss: 1.9498 - accuracy: 0.3000 - val_loss: 2.8910 - val_accuracy: 0.2038\n",
            "Epoch 8/50\n",
            "19/19 [==============================] - 109s 6s/step - loss: 1.9388 - accuracy: 0.3600 - val_loss: 2.6906 - val_accuracy: 0.2484\n",
            "Epoch 9/50\n",
            "19/19 [==============================] - 127s 7s/step - loss: 1.7907 - accuracy: 0.4000 - val_loss: 2.6310 - val_accuracy: 0.2484\n",
            "Epoch 10/50\n",
            "19/19 [==============================] - 107s 6s/step - loss: 1.6544 - accuracy: 0.4333 - val_loss: 2.9652 - val_accuracy: 0.2357\n",
            "Epoch 11/50\n",
            "19/19 [==============================] - 129s 7s/step - loss: 1.4634 - accuracy: 0.5133 - val_loss: 2.8475 - val_accuracy: 0.2548\n",
            "Epoch 12/50\n",
            "19/19 [==============================] - 107s 6s/step - loss: 1.3912 - accuracy: 0.5333 - val_loss: 2.7751 - val_accuracy: 0.2166\n",
            "Epoch 13/50\n",
            "19/19 [==============================] - 132s 7s/step - loss: 1.4281 - accuracy: 0.5600 - val_loss: 3.0971 - val_accuracy: 0.2420\n",
            "Epoch 14/50\n",
            "19/19 [==============================] - 129s 7s/step - loss: 1.1827 - accuracy: 0.6467 - val_loss: 2.9677 - val_accuracy: 0.2611\n",
            "Epoch 15/50\n",
            "19/19 [==============================] - 128s 7s/step - loss: 1.0199 - accuracy: 0.7000 - val_loss: 3.4032 - val_accuracy: 0.2229\n",
            "Epoch 16/50\n",
            "19/19 [==============================] - 128s 7s/step - loss: 0.9200 - accuracy: 0.7267 - val_loss: 3.4021 - val_accuracy: 0.3376\n",
            "Epoch 17/50\n",
            "19/19 [==============================] - 128s 7s/step - loss: 1.0325 - accuracy: 0.7000 - val_loss: 3.2601 - val_accuracy: 0.3185\n",
            "Epoch 18/50\n",
            "19/19 [==============================] - 107s 6s/step - loss: 0.6683 - accuracy: 0.7933 - val_loss: 3.3530 - val_accuracy: 0.3121\n",
            "Epoch 19/50\n",
            "19/19 [==============================] - 129s 7s/step - loss: 0.6330 - accuracy: 0.8133 - val_loss: 3.7435 - val_accuracy: 0.3312\n",
            "Epoch 20/50\n",
            "19/19 [==============================] - 129s 7s/step - loss: 0.5234 - accuracy: 0.8333 - val_loss: 4.4677 - val_accuracy: 0.2930\n",
            "Epoch 21/50\n",
            "19/19 [==============================] - 129s 7s/step - loss: 0.5111 - accuracy: 0.8267 - val_loss: 4.1083 - val_accuracy: 0.2930\n",
            "Epoch 22/50\n",
            "19/19 [==============================] - 128s 7s/step - loss: 0.5141 - accuracy: 0.8400 - val_loss: 4.6101 - val_accuracy: 0.2166\n",
            "Epoch 23/50\n",
            "19/19 [==============================] - 128s 7s/step - loss: 0.5216 - accuracy: 0.8733 - val_loss: 3.8932 - val_accuracy: 0.2548\n",
            "Epoch 24/50\n",
            "19/19 [==============================] - 128s 7s/step - loss: 0.3348 - accuracy: 0.9000 - val_loss: 4.7116 - val_accuracy: 0.2994\n",
            "Epoch 25/50\n",
            "19/19 [==============================] - 128s 7s/step - loss: 0.5545 - accuracy: 0.8133 - val_loss: 4.3864 - val_accuracy: 0.2930\n",
            "Epoch 26/50\n",
            "19/19 [==============================] - 129s 7s/step - loss: 0.4761 - accuracy: 0.8667 - val_loss: 3.8394 - val_accuracy: 0.3185\n",
            "Epoch 27/50\n",
            "19/19 [==============================] - 129s 7s/step - loss: 0.3095 - accuracy: 0.9067 - val_loss: 4.5837 - val_accuracy: 0.3312\n",
            "Epoch 28/50\n",
            "19/19 [==============================] - 129s 7s/step - loss: 0.2400 - accuracy: 0.9133 - val_loss: 4.6213 - val_accuracy: 0.3631\n",
            "Epoch 29/50\n",
            "19/19 [==============================] - 108s 6s/step - loss: 0.2046 - accuracy: 0.9267 - val_loss: 4.9770 - val_accuracy: 0.3185\n",
            "Epoch 30/50\n",
            "19/19 [==============================] - 129s 7s/step - loss: 0.0920 - accuracy: 0.9800 - val_loss: 5.4902 - val_accuracy: 0.2994\n",
            "Epoch 31/50\n",
            "19/19 [==============================] - 108s 6s/step - loss: 0.0741 - accuracy: 0.9800 - val_loss: 5.4554 - val_accuracy: 0.2739\n",
            "Epoch 32/50\n",
            "19/19 [==============================] - 128s 7s/step - loss: 0.1227 - accuracy: 0.9667 - val_loss: 6.2777 - val_accuracy: 0.3185\n",
            "Epoch 33/50\n",
            "19/19 [==============================] - 128s 7s/step - loss: 0.3094 - accuracy: 0.9067 - val_loss: 5.8044 - val_accuracy: 0.3121\n",
            "Epoch 34/50\n",
            "19/19 [==============================] - 128s 7s/step - loss: 0.1959 - accuracy: 0.9333 - val_loss: 4.9683 - val_accuracy: 0.3376\n",
            "Epoch 35/50\n",
            "19/19 [==============================] - 129s 7s/step - loss: 0.1148 - accuracy: 0.9733 - val_loss: 5.0825 - val_accuracy: 0.3312\n",
            "Epoch 36/50\n",
            "19/19 [==============================] - 129s 7s/step - loss: 0.0522 - accuracy: 0.9933 - val_loss: 5.4173 - val_accuracy: 0.2994\n",
            "Epoch 37/50\n",
            "19/19 [==============================] - 128s 7s/step - loss: 0.0248 - accuracy: 1.0000 - val_loss: 5.7729 - val_accuracy: 0.2930\n",
            "Epoch 38/50\n",
            "19/19 [==============================] - 128s 7s/step - loss: 0.0652 - accuracy: 0.9800 - val_loss: 6.3530 - val_accuracy: 0.3503\n",
            "Epoch 39/50\n",
            "19/19 [==============================] - 128s 7s/step - loss: 0.0524 - accuracy: 0.9933 - val_loss: 6.3071 - val_accuracy: 0.3121\n",
            "Epoch 40/50\n",
            "19/19 [==============================] - 129s 7s/step - loss: 0.1132 - accuracy: 0.9533 - val_loss: 6.7026 - val_accuracy: 0.3057\n",
            "Epoch 41/50\n",
            "19/19 [==============================] - 129s 7s/step - loss: 0.1946 - accuracy: 0.9467 - val_loss: 6.1970 - val_accuracy: 0.3312\n",
            "Epoch 42/50\n",
            "19/19 [==============================] - 129s 7s/step - loss: 0.1809 - accuracy: 0.9400 - val_loss: 6.2004 - val_accuracy: 0.3376\n",
            "Epoch 43/50\n",
            "19/19 [==============================] - 127s 7s/step - loss: 0.3190 - accuracy: 0.8933 - val_loss: 6.0861 - val_accuracy: 0.2102\n",
            "Epoch 44/50\n",
            "19/19 [==============================] - 128s 7s/step - loss: 0.3117 - accuracy: 0.9267 - val_loss: 5.7203 - val_accuracy: 0.2866\n",
            "Epoch 45/50\n",
            "19/19 [==============================] - 128s 7s/step - loss: 0.1951 - accuracy: 0.9667 - val_loss: 5.5133 - val_accuracy: 0.2357\n",
            "Epoch 46/50\n",
            "19/19 [==============================] - 128s 7s/step - loss: 0.1821 - accuracy: 0.9533 - val_loss: 5.4173 - val_accuracy: 0.2611\n",
            "Epoch 47/50\n",
            "19/19 [==============================] - 109s 6s/step - loss: 0.0427 - accuracy: 1.0000 - val_loss: 5.8005 - val_accuracy: 0.3121\n",
            "Epoch 48/50\n",
            "19/19 [==============================] - 129s 7s/step - loss: 0.0323 - accuracy: 1.0000 - val_loss: 6.2528 - val_accuracy: 0.3185\n",
            "Epoch 49/50\n",
            "19/19 [==============================] - 106s 6s/step - loss: 0.0152 - accuracy: 1.0000 - val_loss: 6.3066 - val_accuracy: 0.2866\n",
            "Epoch 50/50\n",
            "19/19 [==============================] - 128s 7s/step - loss: 0.0101 - accuracy: 1.0000 - val_loss: 6.4876 - val_accuracy: 0.2803\n"
          ]
        },
        {
          "output_type": "execute_result",
          "data": {
            "text/plain": [
              "<keras.callbacks.History at 0x7fd31fa8a1d0>"
            ]
          },
          "metadata": {},
          "execution_count": 106
        }
      ]
    },
    {
      "cell_type": "code",
      "source": [
        "#Training 1\n",
        "img1 = image.load_img('/content/An condor.jfif', target_size=(120,120))\n",
        "img1 = image.img_to_array(img1)\n",
        "img1 = np.expand_dims(img1,axis=0)\n",
        "pred = np.argmax(model.predict(img1))\n",
        "print(pred)\n",
        "output = ['blasti','bonegl', 'brhkyt', 'cbrtsh','cmnmyn', 'gretit', 'hilpig', 'himbul', 'himgri','hsparo','indvul', 'jglowl', 'lbicrw', 'mgprob', 'rebimg', 'wcrsrt']\n",
        "output[pred]"
      ],
      "metadata": {
        "colab": {
          "base_uri": "https://localhost:8080/",
          "height": 70
        },
        "id": "5o3GaLXwEnT4",
        "outputId": "d690d20b-7753-45e4-eed9-5305641308a2"
      },
      "execution_count": null,
      "outputs": [
        {
          "output_type": "stream",
          "name": "stdout",
          "text": [
            "1/1 [==============================] - 0s 180ms/step\n",
            "4\n"
          ]
        },
        {
          "output_type": "execute_result",
          "data": {
            "text/plain": [
              "'cmnmyn'"
            ],
            "application/vnd.google.colaboratory.intrinsic+json": {
              "type": "string"
            }
          },
          "metadata": {},
          "execution_count": 107
        }
      ]
    },
    {
      "cell_type": "code",
      "source": [
        "#Training 2\n",
        "img1 = image.load_img('/content/Bellied Rock Thrush.jfif', target_size=(120,120))\n",
        "img1 = image.img_to_array(img1)\n",
        "img1 = np.expand_dims(img1,axis=0)\n",
        "pred = np.argmax(model.predict(img1))\n",
        "print(pred)\n",
        "output = ['blasti','bonegl', 'brhkyt', 'cbrtsh','cmnmyn', 'gretit', 'hilpig', 'himbul', 'himgri','hsparo','indvul', 'jglowl', 'lbicrw', 'mgprob', 'rebimg', 'wcrsrt']\n",
        "output[pred]"
      ],
      "metadata": {
        "colab": {
          "base_uri": "https://localhost:8080/",
          "height": 70
        },
        "id": "SN7UkV31FEU-",
        "outputId": "c08169ed-df45-4e25-b4d8-9a6d994e0c09"
      },
      "execution_count": null,
      "outputs": [
        {
          "output_type": "stream",
          "name": "stdout",
          "text": [
            "1/1 [==============================] - 0s 28ms/step\n",
            "5\n"
          ]
        },
        {
          "output_type": "execute_result",
          "data": {
            "text/plain": [
              "'gretit'"
            ],
            "application/vnd.google.colaboratory.intrinsic+json": {
              "type": "string"
            }
          },
          "metadata": {},
          "execution_count": 108
        }
      ]
    },
    {
      "cell_type": "code",
      "source": [
        "#Training 3\n",
        "img1 = image.load_img('/content/Cinereous tit.jfif', target_size=(120,120))\n",
        "img1 = image.img_to_array(img1)\n",
        "img1 = np.expand_dims(img1,axis=0)\n",
        "pred = np.argmax(model.predict(img1))\n",
        "print(pred)\n",
        "output = ['blasti','bonegl', 'brhkyt', 'cbrtsh','cmnmyn', 'gretit', 'hilpig', 'himbul', 'himgri','hsparo','indvul', 'jglowl', 'lbicrw', 'mgprob', 'rebimg', 'wcrsrt']\n",
        "output[pred]"
      ],
      "metadata": {
        "colab": {
          "base_uri": "https://localhost:8080/",
          "height": 70
        },
        "id": "RQLXQf23FEYE",
        "outputId": "b0bc7315-43c6-4aa0-9608-84a5b353c986"
      },
      "execution_count": null,
      "outputs": [
        {
          "output_type": "stream",
          "name": "stdout",
          "text": [
            "1/1 [==============================] - 0s 29ms/step\n",
            "5\n"
          ]
        },
        {
          "output_type": "execute_result",
          "data": {
            "text/plain": [
              "'gretit'"
            ],
            "application/vnd.google.colaboratory.intrinsic+json": {
              "type": "string"
            }
          },
          "metadata": {},
          "execution_count": 109
        }
      ]
    },
    {
      "cell_type": "code",
      "source": [
        "#Training 4\n",
        "img1 = image.load_img('/content/Common Myna.jfif', target_size=(120,120))\n",
        "img1 = image.img_to_array(img1)\n",
        "img1 = np.expand_dims(img1,axis=0)\n",
        "pred = np.argmax(model.predict(img1))\n",
        "print(pred)\n",
        "output = ['blasti','bonegl', 'brhkyt', 'cbrtsh','cmnmyn', 'gretit', 'hilpig', 'himbul', 'himgri','hsparo','indvul', 'jglowl', 'lbicrw', 'mgprob', 'rebimg', 'wcrsrt']\n",
        "output[pred]"
      ],
      "metadata": {
        "colab": {
          "base_uri": "https://localhost:8080/",
          "height": 70
        },
        "id": "DSsj9LLXKOYh",
        "outputId": "a786cced-db28-4265-8c41-30a0eff7e5f9"
      },
      "execution_count": null,
      "outputs": [
        {
          "output_type": "stream",
          "name": "stdout",
          "text": [
            "1/1 [==============================] - 0s 39ms/step\n",
            "5\n"
          ]
        },
        {
          "output_type": "execute_result",
          "data": {
            "text/plain": [
              "'gretit'"
            ],
            "application/vnd.google.colaboratory.intrinsic+json": {
              "type": "string"
            }
          },
          "metadata": {},
          "execution_count": 110
        }
      ]
    },
    {
      "cell_type": "code",
      "source": [
        "#Training 5\n",
        "img1 = image.load_img('/content/Pegion.jpg', target_size=(120,120))\n",
        "img1 = image.img_to_array(img1)\n",
        "img1 = np.expand_dims(img1,axis=0)\n",
        "pred = np.argmax(model.predict(img1))\n",
        "print(pred)\n",
        "output = ['blasti','bonegl', 'brhkyt', 'cbrtsh','cmnmyn', 'gretit', 'hilpig', 'himbul', 'himgri','hsparo','indvul', 'jglowl', 'lbicrw', 'mgprob', 'rebimg', 'wcrsrt']\n",
        "output[pred]"
      ],
      "metadata": {
        "colab": {
          "base_uri": "https://localhost:8080/",
          "height": 70
        },
        "id": "ktx8K7duKOkm",
        "outputId": "b96b1dfd-7120-44e1-89ec-93f9026d1343"
      },
      "execution_count": null,
      "outputs": [
        {
          "output_type": "stream",
          "name": "stdout",
          "text": [
            "1/1 [==============================] - 0s 27ms/step\n",
            "6\n"
          ]
        },
        {
          "output_type": "execute_result",
          "data": {
            "text/plain": [
              "'hilpig'"
            ],
            "application/vnd.google.colaboratory.intrinsic+json": {
              "type": "string"
            }
          },
          "metadata": {},
          "execution_count": 111
        }
      ]
    },
    {
      "cell_type": "code",
      "source": [
        "#Training 6\n",
        "img1 = image.load_img('/content/Himalayan Bulbul.jpg', target_size=(120,120))\n",
        "img1 = image.img_to_array(img1)\n",
        "img1 = np.expand_dims(img1,axis=0)\n",
        "pred = np.argmax(model.predict(img1))\n",
        "print(pred)\n",
        "output = ['blasti','bonegl', 'brhkyt', 'cbrtsh','cmnmyn', 'gretit', 'hilpig', 'himbul', 'himgri','hsparo','indvul', 'jglowl', 'lbicrw', 'mgprob', 'rebimg', 'wcrsrt']\n",
        "output[pred]"
      ],
      "metadata": {
        "colab": {
          "base_uri": "https://localhost:8080/",
          "height": 70
        },
        "id": "P16tTKcCKOvf",
        "outputId": "54ab6e28-fac6-4848-b4a5-fc8fa3a809cb"
      },
      "execution_count": null,
      "outputs": [
        {
          "output_type": "stream",
          "name": "stdout",
          "text": [
            "1/1 [==============================] - 0s 36ms/step\n",
            "0\n"
          ]
        },
        {
          "output_type": "execute_result",
          "data": {
            "text/plain": [
              "'blasti'"
            ],
            "application/vnd.google.colaboratory.intrinsic+json": {
              "type": "string"
            }
          },
          "metadata": {},
          "execution_count": 112
        }
      ]
    },
    {
      "cell_type": "code",
      "source": [
        "#Training 7\n",
        "img1 = image.load_img('/content/Kyte.jfif', target_size=(120,120))\n",
        "img1 = image.img_to_array(img1)\n",
        "img1 = np.expand_dims(img1,axis=0)\n",
        "pred = np.argmax(model.predict(img1))\n",
        "print(pred)\n",
        "output = ['blasti','bonegl', 'brhkyt', 'cbrtsh','cmnmyn', 'gretit', 'hilpig', 'himbul', 'himgri','hsparo','indvul', 'jglowl', 'lbicrw', 'mgprob', 'rebimg', 'wcrsrt']\n",
        "output[pred]"
      ],
      "metadata": {
        "colab": {
          "base_uri": "https://localhost:8080/",
          "height": 70
        },
        "id": "eYAvZrJcKO4A",
        "outputId": "e65c37a3-81ce-4a3d-ae26-02a8e6600cb8"
      },
      "execution_count": null,
      "outputs": [
        {
          "output_type": "stream",
          "name": "stdout",
          "text": [
            "1/1 [==============================] - 0s 26ms/step\n",
            "4\n"
          ]
        },
        {
          "output_type": "execute_result",
          "data": {
            "text/plain": [
              "'cmnmyn'"
            ],
            "application/vnd.google.colaboratory.intrinsic+json": {
              "type": "string"
            }
          },
          "metadata": {},
          "execution_count": 113
        }
      ]
    },
    {
      "cell_type": "code",
      "source": [
        "#Training 8\n",
        "img1 = image.load_img('/content/Magpie.jpg', target_size=(120,120))\n",
        "img1 = image.img_to_array(img1)\n",
        "img1 = np.expand_dims(img1,axis=0)\n",
        "pred = np.argmax(model.predict(img1))\n",
        "print(pred)\n",
        "output = ['blasti','bonegl', 'brhkyt', 'cbrtsh','cmnmyn', 'gretit', 'hilpig', 'himbul', 'himgri','hsparo','indvul', 'jglowl', 'lbicrw', 'mgprob', 'rebimg', 'wcrsrt']\n",
        "output[pred]"
      ],
      "metadata": {
        "colab": {
          "base_uri": "https://localhost:8080/",
          "height": 70
        },
        "id": "bS4Jaez8KO_R",
        "outputId": "bdf9da2a-2ac6-49b0-d7e2-3e3ad0072e62"
      },
      "execution_count": null,
      "outputs": [
        {
          "output_type": "stream",
          "name": "stdout",
          "text": [
            "1/1 [==============================] - 0s 27ms/step\n",
            "2\n"
          ]
        },
        {
          "output_type": "execute_result",
          "data": {
            "text/plain": [
              "'brhkyt'"
            ],
            "application/vnd.google.colaboratory.intrinsic+json": {
              "type": "string"
            }
          },
          "metadata": {},
          "execution_count": 114
        }
      ]
    },
    {
      "cell_type": "code",
      "source": [
        "#Training 9\n",
        "img1 = image.load_img('/content/OWL.jfif', target_size=(120,120))\n",
        "img1 = image.img_to_array(img1)\n",
        "img1 = np.expand_dims(img1,axis=0)\n",
        "pred = np.argmax(model.predict(img1))\n",
        "print(pred)\n",
        "output = ['blasti','bonegl', 'brhkyt', 'cbrtsh','cmnmyn', 'gretit', 'hilpig', 'himbul', 'himgri','hsparo','indvul', 'jglowl', 'lbicrw', 'mgprob', 'rebimg', 'wcrsrt']\n",
        "output[pred]"
      ],
      "metadata": {
        "colab": {
          "base_uri": "https://localhost:8080/",
          "height": 70
        },
        "id": "F-yZlFKbKPGy",
        "outputId": "b5813ebb-3ccc-44ad-a9d8-1b9b8f1054de"
      },
      "execution_count": null,
      "outputs": [
        {
          "output_type": "stream",
          "name": "stdout",
          "text": [
            "1/1 [==============================] - 0s 25ms/step\n",
            "5\n"
          ]
        },
        {
          "output_type": "execute_result",
          "data": {
            "text/plain": [
              "'gretit'"
            ],
            "application/vnd.google.colaboratory.intrinsic+json": {
              "type": "string"
            }
          },
          "metadata": {},
          "execution_count": 115
        }
      ]
    },
    {
      "cell_type": "code",
      "source": [
        "#Training 10\n",
        "img1 = image.load_img('/content/Pegion.jpg', target_size=(120,120))\n",
        "img1 = image.img_to_array(img1)\n",
        "img1 = np.expand_dims(img1,axis=0)\n",
        "pred = np.argmax(model.predict(img1))\n",
        "print(pred)\n",
        "output = ['blasti','bonegl', 'brhkyt', 'cbrtsh','cmnmyn', 'gretit', 'hilpig', 'himbul', 'himgri','hsparo','indvul', 'jglowl', 'lbicrw', 'mgprob', 'rebimg', 'wcrsrt']\n",
        "output[pred]"
      ],
      "metadata": {
        "colab": {
          "base_uri": "https://localhost:8080/",
          "height": 70
        },
        "id": "qkVSARsbKPOV",
        "outputId": "e3dbb020-ce54-4c08-9a3b-e85be0becd78"
      },
      "execution_count": null,
      "outputs": [
        {
          "output_type": "stream",
          "name": "stdout",
          "text": [
            "1/1 [==============================] - 0s 37ms/step\n",
            "7\n"
          ]
        },
        {
          "output_type": "execute_result",
          "data": {
            "text/plain": [
              "'himbul'"
            ],
            "application/vnd.google.colaboratory.intrinsic+json": {
              "type": "string"
            }
          },
          "metadata": {},
          "execution_count": 116
        }
      ]
    },
    {
      "cell_type": "code",
      "source": [
        "#Training 11\n",
        "img1 = image.load_img('/content/avocet.jpg', target_size=(120,120))\n",
        "img1 = image.img_to_array(img1)\n",
        "img1 = np.expand_dims(img1,axis=0)\n",
        "pred = np.argmax(model.predict(img1))\n",
        "print(pred)\n",
        "output = ['blasti','bonegl', 'brhkyt', 'cbrtsh','cmnmyn', 'gretit', 'hilpig', 'himbul', 'himgri','hsparo','indvul', 'jglowl', 'lbicrw', 'mgprob', 'rebimg', 'wcrsrt']\n",
        "output[pred]"
      ],
      "metadata": {
        "colab": {
          "base_uri": "https://localhost:8080/",
          "height": 70
        },
        "id": "IDV-WqEMKPWX",
        "outputId": "fbe32c66-d313-445c-882e-7c3b2d61eb32"
      },
      "execution_count": null,
      "outputs": [
        {
          "output_type": "stream",
          "name": "stdout",
          "text": [
            "1/1 [==============================] - 0s 25ms/step\n",
            "4\n"
          ]
        },
        {
          "output_type": "execute_result",
          "data": {
            "text/plain": [
              "'cmnmyn'"
            ],
            "application/vnd.google.colaboratory.intrinsic+json": {
              "type": "string"
            }
          },
          "metadata": {},
          "execution_count": 117
        }
      ]
    },
    {
      "cell_type": "code",
      "source": [
        "#Training 12\n",
        "img1 = image.load_img('/content/vulture.jpg', target_size=(120,120))\n",
        "img1 = image.img_to_array(img1)\n",
        "img1 = np.expand_dims(img1,axis=0)\n",
        "pred = np.argmax(model.predict(img1))\n",
        "print(pred)\n",
        "output = ['blasti','bonegl', 'brhkyt', 'cbrtsh','cmnmyn', 'gretit', 'hilpig', 'himbul', 'himgri','hsparo','indvul', 'jglowl', 'lbicrw', 'mgprob', 'rebimg', 'wcrsrt']\n",
        "output[pred]"
      ],
      "metadata": {
        "colab": {
          "base_uri": "https://localhost:8080/",
          "height": 70
        },
        "id": "zV5CDvt5KPc9",
        "outputId": "fe188d89-2bbd-4231-f9bd-d33bb44bf08a"
      },
      "execution_count": null,
      "outputs": [
        {
          "output_type": "stream",
          "name": "stdout",
          "text": [
            "1/1 [==============================] - 0s 29ms/step\n",
            "10\n"
          ]
        },
        {
          "output_type": "execute_result",
          "data": {
            "text/plain": [
              "'indvul'"
            ],
            "application/vnd.google.colaboratory.intrinsic+json": {
              "type": "string"
            }
          },
          "metadata": {},
          "execution_count": 118
        }
      ]
    },
    {
      "cell_type": "code",
      "source": [
        "#Training 13\n",
        "img1 = image.load_img('/content/eagle.jfif', target_size=(120,120))\n",
        "img1 = image.img_to_array(img1)\n",
        "img1 = np.expand_dims(img1,axis=0)\n",
        "pred = np.argmax(model.predict(img1))\n",
        "print(pred)\n",
        "output = ['blasti','bonegl', 'brhkyt', 'cbrtsh','cmnmyn', 'gretit', 'hilpig', 'himbul', 'himgri','hsparo','indvul', 'jglowl', 'lbicrw', 'mgprob', 'rebimg', 'wcrsrt']\n",
        "output[pred]"
      ],
      "metadata": {
        "colab": {
          "base_uri": "https://localhost:8080/",
          "height": 70
        },
        "id": "0azN_NksKPkI",
        "outputId": "2c217710-c5ad-4e8e-b98d-b40f0fd18a56"
      },
      "execution_count": null,
      "outputs": [
        {
          "output_type": "stream",
          "name": "stdout",
          "text": [
            "1/1 [==============================] - 0s 39ms/step\n",
            "4\n"
          ]
        },
        {
          "output_type": "execute_result",
          "data": {
            "text/plain": [
              "'cmnmyn'"
            ],
            "application/vnd.google.colaboratory.intrinsic+json": {
              "type": "string"
            }
          },
          "metadata": {},
          "execution_count": 119
        }
      ]
    },
    {
      "cell_type": "code",
      "source": [
        "#Training 14\n",
        "img1 = image.load_img('/content/red-blue-magpie.jfif', target_size=(120,120))\n",
        "img1 = image.img_to_array(img1)\n",
        "img1 = np.expand_dims(img1,axis=0)\n",
        "pred = np.argmax(model.predict(img1))\n",
        "print(pred)\n",
        "output = ['blasti','bonegl', 'brhkyt', 'cbrtsh','cmnmyn', 'gretit', 'hilpig', 'himbul', 'himgri','hsparo','indvul', 'jglowl', 'lbicrw', 'mgprob', 'rebimg', 'wcrsrt']\n",
        "output[pred]"
      ],
      "metadata": {
        "colab": {
          "base_uri": "https://localhost:8080/",
          "height": 70
        },
        "id": "BeZ6om9uKPrJ",
        "outputId": "9a14eb9b-4a9c-4101-da73-5d29b07bb3e6"
      },
      "execution_count": null,
      "outputs": [
        {
          "output_type": "stream",
          "name": "stdout",
          "text": [
            "1/1 [==============================] - 0s 29ms/step\n",
            "3\n"
          ]
        },
        {
          "output_type": "execute_result",
          "data": {
            "text/plain": [
              "'cbrtsh'"
            ],
            "application/vnd.google.colaboratory.intrinsic+json": {
              "type": "string"
            }
          },
          "metadata": {},
          "execution_count": 120
        }
      ]
    },
    {
      "cell_type": "code",
      "source": [
        "#Training 15\n",
        "img1 = image.load_img('/content/sparrow.jpg', target_size=(120,120))\n",
        "img1 = image.img_to_array(img1)\n",
        "img1 = np.expand_dims(img1,axis=0)\n",
        "pred = np.argmax(model.predict(img1))\n",
        "print(pred)\n",
        "output = ['blasti','bonegl', 'brhkyt', 'cbrtsh','cmnmyn', 'gretit', 'hilpig', 'himbul', 'himgri','hsparo','indvul', 'jglowl', 'lbicrw', 'mgprob', 'rebimg', 'wcrsrt']\n",
        "output[pred]"
      ],
      "metadata": {
        "colab": {
          "base_uri": "https://localhost:8080/",
          "height": 70
        },
        "id": "iJDXTeyMKPyT",
        "outputId": "22e00bf8-ffa7-4a8d-8839-45633417451d"
      },
      "execution_count": null,
      "outputs": [
        {
          "output_type": "stream",
          "name": "stdout",
          "text": [
            "1/1 [==============================] - 0s 38ms/step\n",
            "5\n"
          ]
        },
        {
          "output_type": "execute_result",
          "data": {
            "text/plain": [
              "'gretit'"
            ],
            "application/vnd.google.colaboratory.intrinsic+json": {
              "type": "string"
            }
          },
          "metadata": {},
          "execution_count": 121
        }
      ]
    },
    {
      "cell_type": "code",
      "source": [
        "#@title Model tuning (with dropout, batch normalizationm and early stop)\n",
        "from tensorflow.keras.layers import BatchNormalization, Dropout"
      ],
      "metadata": {
        "id": "B6LXQvrMmr8B"
      },
      "execution_count": null,
      "outputs": []
    },
    {
      "cell_type": "code",
      "source": [
        "model = Sequential()\n",
        "\n",
        "#Adding CNN Layers\n",
        "model.add(Convolution2D(12,(3,3),activation='relu',input_shape=(120,120,3)))\n",
        "model.add(BatchNormalization())\n",
        "model.add(MaxPooling2D(pool_size=(2, 2)))\n",
        "model.add(Dropout(0.2))\n",
        "model.add(Convolution2D(24,(3,3),activation='relu',input_shape=(120,120,3)))\n",
        "model.add(BatchNormalization())\n",
        "model.add(MaxPooling2D(pool_size=(2, 2)))\n",
        "model.add(Dropout(0.2))\n",
        "model.add(Convolution2D(36,(3,3),activation='relu',input_shape=(120,120,3)))\n",
        "model.add(BatchNormalization())\n",
        "model.add(MaxPooling2D(pool_size=(2, 2)))\n",
        "model.add(Dropout(0.2))\n",
        "model.add(Flatten())\n",
        "#Building ANN from here\n",
        "model.add(Dense(62,activation='relu'))\n",
        "model.add(BatchNormalization())\n",
        "model.add(Dropout(0.1))\n",
        "model.add(Dense(32,activation='relu'))\n",
        "#model.add(Dense(16,activation='relu'))\n",
        "model.add(Dense(16,activation='softmax'))"
      ],
      "metadata": {
        "id": "pWriwIJ_FEbk"
      },
      "execution_count": null,
      "outputs": []
    },
    {
      "cell_type": "code",
      "source": [
        "model.summary()"
      ],
      "metadata": {
        "colab": {
          "base_uri": "https://localhost:8080/"
        },
        "id": "E748YsPHoLkC",
        "outputId": "2e1e8dcf-df25-4530-d52a-e92fc4cf4fa0"
      },
      "execution_count": null,
      "outputs": [
        {
          "output_type": "stream",
          "name": "stdout",
          "text": [
            "Model: \"sequential_8\"\n",
            "_________________________________________________________________\n",
            " Layer (type)                Output Shape              Param #   \n",
            "=================================================================\n",
            " conv2d_20 (Conv2D)          (None, 118, 118, 12)      336       \n",
            "                                                                 \n",
            " batch_normalization_4 (Batc  (None, 118, 118, 12)     48        \n",
            " hNormalization)                                                 \n",
            "                                                                 \n",
            " max_pooling2d_20 (MaxPoolin  (None, 59, 59, 12)       0         \n",
            " g2D)                                                            \n",
            "                                                                 \n",
            " dropout_4 (Dropout)         (None, 59, 59, 12)        0         \n",
            "                                                                 \n",
            " conv2d_21 (Conv2D)          (None, 57, 57, 24)        2616      \n",
            "                                                                 \n",
            " batch_normalization_5 (Batc  (None, 57, 57, 24)       96        \n",
            " hNormalization)                                                 \n",
            "                                                                 \n",
            " max_pooling2d_21 (MaxPoolin  (None, 28, 28, 24)       0         \n",
            " g2D)                                                            \n",
            "                                                                 \n",
            " dropout_5 (Dropout)         (None, 28, 28, 24)        0         \n",
            "                                                                 \n",
            " conv2d_22 (Conv2D)          (None, 26, 26, 36)        7812      \n",
            "                                                                 \n",
            " batch_normalization_6 (Batc  (None, 26, 26, 36)       144       \n",
            " hNormalization)                                                 \n",
            "                                                                 \n",
            " max_pooling2d_22 (MaxPoolin  (None, 13, 13, 36)       0         \n",
            " g2D)                                                            \n",
            "                                                                 \n",
            " dropout_6 (Dropout)         (None, 13, 13, 36)        0         \n",
            "                                                                 \n",
            " flatten_8 (Flatten)         (None, 6084)              0         \n",
            "                                                                 \n",
            " dense_22 (Dense)            (None, 62)                377270    \n",
            "                                                                 \n",
            " batch_normalization_7 (Batc  (None, 62)               248       \n",
            " hNormalization)                                                 \n",
            "                                                                 \n",
            " dropout_7 (Dropout)         (None, 62)                0         \n",
            "                                                                 \n",
            " dense_23 (Dense)            (None, 32)                2016      \n",
            "                                                                 \n",
            " dense_24 (Dense)            (None, 16)                528       \n",
            "                                                                 \n",
            "=================================================================\n",
            "Total params: 391,114\n",
            "Trainable params: 390,846\n",
            "Non-trainable params: 268\n",
            "_________________________________________________________________\n"
          ]
        }
      ]
    },
    {
      "cell_type": "code",
      "source": [
        "model.compile(optimizer='adam', loss='categorical_crossentropy', metrics=['accuracy'])"
      ],
      "metadata": {
        "id": "aWJfJ7x5oPPF"
      },
      "execution_count": null,
      "outputs": []
    },
    {
      "cell_type": "code",
      "source": [
        "#Early Stop\n",
        "\n",
        "from tensorflow.keras.callbacks import EarlyStopping"
      ],
      "metadata": {
        "id": "v3BE9bMRodXZ"
      },
      "execution_count": null,
      "outputs": []
    },
    {
      "cell_type": "code",
      "source": [
        "early_stop = EarlyStopping(monitor = 'val_accuracy', patience=8)"
      ],
      "metadata": {
        "id": "ygSKKvDNoda5"
      },
      "execution_count": null,
      "outputs": []
    },
    {
      "cell_type": "code",
      "source": [
        "model.fit(train,batch_size=8,validation_data=test,epochs=50, callbacks=early_stop)"
      ],
      "metadata": {
        "colab": {
          "base_uri": "https://localhost:8080/"
        },
        "id": "u8cNc8mNoPSg",
        "outputId": "66a71a04-f75e-4bdf-91eb-93892f4ee7d5"
      },
      "execution_count": null,
      "outputs": [
        {
          "output_type": "stream",
          "name": "stdout",
          "text": [
            "Epoch 1/50\n",
            "19/19 [==============================] - 136s 7s/step - loss: 2.8230 - accuracy: 0.1667 - val_loss: 2.8177 - val_accuracy: 0.1210\n",
            "Epoch 2/50\n",
            "19/19 [==============================] - 133s 7s/step - loss: 2.2873 - accuracy: 0.3133 - val_loss: 3.2802 - val_accuracy: 0.0764\n",
            "Epoch 3/50\n",
            "19/19 [==============================] - 107s 6s/step - loss: 2.0045 - accuracy: 0.4533 - val_loss: 3.7691 - val_accuracy: 0.0382\n",
            "Epoch 4/50\n",
            "19/19 [==============================] - 108s 6s/step - loss: 1.9589 - accuracy: 0.4467 - val_loss: 4.1699 - val_accuracy: 0.0382\n",
            "Epoch 5/50\n",
            "19/19 [==============================] - 128s 7s/step - loss: 1.8512 - accuracy: 0.4600 - val_loss: 4.5910 - val_accuracy: 0.0382\n",
            "Epoch 6/50\n",
            "19/19 [==============================] - 108s 6s/step - loss: 1.6538 - accuracy: 0.5867 - val_loss: 5.2828 - val_accuracy: 0.0382\n",
            "Epoch 7/50\n",
            "19/19 [==============================] - 129s 7s/step - loss: 1.5894 - accuracy: 0.5600 - val_loss: 5.1038 - val_accuracy: 0.0382\n",
            "Epoch 8/50\n",
            "19/19 [==============================] - 109s 6s/step - loss: 1.6128 - accuracy: 0.5467 - val_loss: 4.9558 - val_accuracy: 0.0573\n",
            "Epoch 9/50\n",
            "19/19 [==============================] - 130s 7s/step - loss: 1.6166 - accuracy: 0.5533 - val_loss: 4.5541 - val_accuracy: 0.0701\n"
          ]
        },
        {
          "output_type": "execute_result",
          "data": {
            "text/plain": [
              "<keras.callbacks.History at 0x7fd31f7bc0a0>"
            ]
          },
          "metadata": {},
          "execution_count": 128
        }
      ]
    },
    {
      "cell_type": "code",
      "source": [
        "#Training 1\n",
        "img1 = image.load_img('/content/An condor.jfif', target_size=(120,120))\n",
        "img1 = image.img_to_array(img1)\n",
        "img1 = np.expand_dims(img1,axis=0)\n",
        "pred = np.argmax(model.predict(img1))\n",
        "print(pred)\n",
        "output = ['blasti','bonegl', 'brhkyt', 'cbrtsh','cmnmyn', 'gretit', 'hilpig', 'himbul', 'himgri','hsparo','indvul', 'jglowl', 'lbicrw', 'mgprob', 'rebimg', 'wcrsrt']\n",
        "output[pred]"
      ],
      "metadata": {
        "colab": {
          "base_uri": "https://localhost:8080/",
          "height": 70
        },
        "id": "o-LdYPvS78zP",
        "outputId": "fc326b93-6559-4729-867f-f505dac1a1d9"
      },
      "execution_count": null,
      "outputs": [
        {
          "output_type": "stream",
          "name": "stdout",
          "text": [
            "1/1 [==============================] - 0s 247ms/step\n",
            "4\n"
          ]
        },
        {
          "output_type": "execute_result",
          "data": {
            "text/plain": [
              "'cmnmyn'"
            ],
            "application/vnd.google.colaboratory.intrinsic+json": {
              "type": "string"
            }
          },
          "metadata": {},
          "execution_count": 129
        }
      ]
    },
    {
      "cell_type": "code",
      "source": [
        "#Training 2\n",
        "img1 = image.load_img('/content/Bellied Rock Thrush.jfif', target_size=(120,120))\n",
        "img1 = image.img_to_array(img1)\n",
        "img1 = np.expand_dims(img1,axis=0)\n",
        "pred = np.argmax(model.predict(img1))\n",
        "print(pred)\n",
        "output = ['blasti','bonegl', 'brhkyt', 'cbrtsh','cmnmyn', 'gretit', 'hilpig', 'himbul', 'himgri','hsparo','indvul', 'jglowl', 'lbicrw', 'mgprob', 'rebimg', 'wcrsrt']\n",
        "output[pred]"
      ],
      "metadata": {
        "colab": {
          "base_uri": "https://localhost:8080/",
          "height": 70
        },
        "id": "saOV-Wro781t",
        "outputId": "301d9a11-d1b3-46f0-fe95-c973fba91912"
      },
      "execution_count": null,
      "outputs": [
        {
          "output_type": "stream",
          "name": "stdout",
          "text": [
            "1/1 [==============================] - 0s 31ms/step\n",
            "14\n"
          ]
        },
        {
          "output_type": "execute_result",
          "data": {
            "text/plain": [
              "'rebimg'"
            ],
            "application/vnd.google.colaboratory.intrinsic+json": {
              "type": "string"
            }
          },
          "metadata": {},
          "execution_count": 130
        }
      ]
    },
    {
      "cell_type": "code",
      "source": [
        "#Training 3\n",
        "img1 = image.load_img('/content/Cinereous tit.jfif', target_size=(120,120))\n",
        "img1 = image.img_to_array(img1)\n",
        "img1 = np.expand_dims(img1,axis=0)\n",
        "pred = np.argmax(model.predict(img1))\n",
        "print(pred)\n",
        "output = ['blasti','bonegl', 'brhkyt', 'cbrtsh','cmnmyn', 'gretit', 'hilpig', 'himbul', 'himgri','hsparo','indvul', 'jglowl', 'lbicrw', 'mgprob', 'rebimg', 'wcrsrt']\n",
        "output[pred]"
      ],
      "metadata": {
        "colab": {
          "base_uri": "https://localhost:8080/",
          "height": 70
        },
        "id": "9_Hs1k0v785V",
        "outputId": "36ab4481-ced3-4b8e-cf0f-08530c10630b"
      },
      "execution_count": null,
      "outputs": [
        {
          "output_type": "stream",
          "name": "stdout",
          "text": [
            "1/1 [==============================] - 0s 46ms/step\n",
            "14\n"
          ]
        },
        {
          "output_type": "execute_result",
          "data": {
            "text/plain": [
              "'rebimg'"
            ],
            "application/vnd.google.colaboratory.intrinsic+json": {
              "type": "string"
            }
          },
          "metadata": {},
          "execution_count": 131
        }
      ]
    },
    {
      "cell_type": "code",
      "source": [
        "#Training 4\n",
        "img1 = image.load_img('/content/Common Myna.jfif', target_size=(120,120))\n",
        "img1 = image.img_to_array(img1)\n",
        "img1 = np.expand_dims(img1,axis=0)\n",
        "pred = np.argmax(model.predict(img1))\n",
        "print(pred)\n",
        "output = ['blasti','bonegl', 'brhkyt', 'cbrtsh','cmnmyn', 'gretit', 'hilpig', 'himbul', 'himgri','hsparo','indvul', 'jglowl', 'lbicrw', 'mgprob', 'rebimg', 'wcrsrt']\n",
        "output[pred]"
      ],
      "metadata": {
        "colab": {
          "base_uri": "https://localhost:8080/",
          "height": 70
        },
        "id": "Gd5RfGxE79eL",
        "outputId": "fe1a43b9-0916-4b4c-9449-84be7c2c84da"
      },
      "execution_count": null,
      "outputs": [
        {
          "output_type": "stream",
          "name": "stdout",
          "text": [
            "1/1 [==============================] - 0s 33ms/step\n",
            "14\n"
          ]
        },
        {
          "output_type": "execute_result",
          "data": {
            "text/plain": [
              "'rebimg'"
            ],
            "application/vnd.google.colaboratory.intrinsic+json": {
              "type": "string"
            }
          },
          "metadata": {},
          "execution_count": 132
        }
      ]
    },
    {
      "cell_type": "code",
      "source": [
        "#Training 5\n",
        "img1 = image.load_img('/content/Crow.jpg', target_size=(120,120))\n",
        "img1 = image.img_to_array(img1)\n",
        "img1 = np.expand_dims(img1,axis=0)\n",
        "pred = np.argmax(model.predict(img1))\n",
        "print(pred)\n",
        "output = ['blasti','bonegl', 'brhkyt', 'cbrtsh','cmnmyn', 'gretit', 'hilpig', 'himbul', 'himgri','hsparo','indvul', 'jglowl', 'lbicrw', 'mgprob', 'rebimg', 'wcrsrt']\n",
        "output[pred]"
      ],
      "metadata": {
        "colab": {
          "base_uri": "https://localhost:8080/",
          "height": 70
        },
        "id": "CrKicvQq79g9",
        "outputId": "17bb5a30-5266-4f80-fb7f-4ee25b8b51a4"
      },
      "execution_count": null,
      "outputs": [
        {
          "output_type": "stream",
          "name": "stdout",
          "text": [
            "1/1 [==============================] - 0s 29ms/step\n",
            "4\n"
          ]
        },
        {
          "output_type": "execute_result",
          "data": {
            "text/plain": [
              "'cmnmyn'"
            ],
            "application/vnd.google.colaboratory.intrinsic+json": {
              "type": "string"
            }
          },
          "metadata": {},
          "execution_count": 133
        }
      ]
    },
    {
      "cell_type": "code",
      "source": [
        "#Training 6\n",
        "img1 = image.load_img('/content/Himalayan Bulbul.jpg', target_size=(120,120))\n",
        "img1 = image.img_to_array(img1)\n",
        "img1 = np.expand_dims(img1,axis=0)\n",
        "pred = np.argmax(model.predict(img1))\n",
        "print(pred)\n",
        "output = ['blasti','bonegl', 'brhkyt', 'cbrtsh','cmnmyn', 'gretit', 'hilpig', 'himbul', 'himgri','hsparo','indvul', 'jglowl', 'lbicrw', 'mgprob', 'rebimg', 'wcrsrt']\n",
        "output[pred]"
      ],
      "metadata": {
        "colab": {
          "base_uri": "https://localhost:8080/",
          "height": 70
        },
        "id": "3mkq8ACn79j1",
        "outputId": "b2da26e3-1043-42b6-fe15-2afe33f1341e"
      },
      "execution_count": null,
      "outputs": [
        {
          "output_type": "stream",
          "name": "stdout",
          "text": [
            "1/1 [==============================] - 0s 45ms/step\n",
            "4\n"
          ]
        },
        {
          "output_type": "execute_result",
          "data": {
            "text/plain": [
              "'cmnmyn'"
            ],
            "application/vnd.google.colaboratory.intrinsic+json": {
              "type": "string"
            }
          },
          "metadata": {},
          "execution_count": 134
        }
      ]
    },
    {
      "cell_type": "code",
      "source": [
        "#Training 7\n",
        "img1 = image.load_img('/content/Kyte.jfif', target_size=(120,120))\n",
        "img1 = image.img_to_array(img1)\n",
        "img1 = np.expand_dims(img1,axis=0)\n",
        "pred = np.argmax(model.predict(img1))\n",
        "print(pred)\n",
        "output = ['blasti','bonegl', 'brhkyt', 'cbrtsh','cmnmyn', 'gretit', 'hilpig', 'himbul', 'himgri','hsparo','indvul', 'jglowl', 'lbicrw', 'mgprob', 'rebimg', 'wcrsrt']\n",
        "output[pred]"
      ],
      "metadata": {
        "colab": {
          "base_uri": "https://localhost:8080/",
          "height": 70
        },
        "id": "sDxX-IWZ79my",
        "outputId": "593244c2-7aeb-4326-fe00-2a77b7bb452c"
      },
      "execution_count": null,
      "outputs": [
        {
          "output_type": "stream",
          "name": "stdout",
          "text": [
            "1/1 [==============================] - 0s 28ms/step\n",
            "4\n"
          ]
        },
        {
          "output_type": "execute_result",
          "data": {
            "text/plain": [
              "'cmnmyn'"
            ],
            "application/vnd.google.colaboratory.intrinsic+json": {
              "type": "string"
            }
          },
          "metadata": {},
          "execution_count": 135
        }
      ]
    },
    {
      "cell_type": "code",
      "source": [
        "#Training 8\n",
        "img1 = image.load_img('/content/Magpie.jpg', target_size=(120,120))\n",
        "img1 = image.img_to_array(img1)\n",
        "img1 = np.expand_dims(img1,axis=0)\n",
        "pred = np.argmax(model.predict(img1))\n",
        "print(pred)\n",
        "output = ['blasti','bonegl', 'brhkyt', 'cbrtsh','cmnmyn', 'gretit', 'hilpig', 'himbul', 'himgri','hsparo','indvul', 'jglowl', 'lbicrw', 'mgprob', 'rebimg', 'wcrsrt']\n",
        "output[pred]"
      ],
      "metadata": {
        "colab": {
          "base_uri": "https://localhost:8080/",
          "height": 70
        },
        "id": "vY339Vs779p0",
        "outputId": "e24ddd8b-dbcb-4257-8fa7-66e44ce2db9e"
      },
      "execution_count": null,
      "outputs": [
        {
          "output_type": "stream",
          "name": "stdout",
          "text": [
            "1/1 [==============================] - 0s 39ms/step\n",
            "4\n"
          ]
        },
        {
          "output_type": "execute_result",
          "data": {
            "text/plain": [
              "'cmnmyn'"
            ],
            "application/vnd.google.colaboratory.intrinsic+json": {
              "type": "string"
            }
          },
          "metadata": {},
          "execution_count": 136
        }
      ]
    },
    {
      "cell_type": "code",
      "source": [
        "#Training 9\n",
        "img1 = image.load_img('/content/OWL.jfif', target_size=(120,120))\n",
        "img1 = image.img_to_array(img1)\n",
        "img1 = np.expand_dims(img1,axis=0)\n",
        "pred = np.argmax(model.predict(img1))\n",
        "print(pred)\n",
        "output = ['blasti','bonegl', 'brhkyt', 'cbrtsh','cmnmyn', 'gretit', 'hilpig', 'himbul', 'himgri','hsparo','indvul', 'jglowl', 'lbicrw', 'mgprob', 'rebimg', 'wcrsrt']\n",
        "output[pred]"
      ],
      "metadata": {
        "colab": {
          "base_uri": "https://localhost:8080/",
          "height": 70
        },
        "id": "vy6J4hyq79sn",
        "outputId": "3ec75896-b4bc-4024-862a-588119a94461"
      },
      "execution_count": null,
      "outputs": [
        {
          "output_type": "stream",
          "name": "stdout",
          "text": [
            "1/1 [==============================] - 0s 52ms/step\n",
            "4\n"
          ]
        },
        {
          "output_type": "execute_result",
          "data": {
            "text/plain": [
              "'cmnmyn'"
            ],
            "application/vnd.google.colaboratory.intrinsic+json": {
              "type": "string"
            }
          },
          "metadata": {},
          "execution_count": 137
        }
      ]
    },
    {
      "cell_type": "code",
      "source": [
        "#Training 10\n",
        "img1 = image.load_img('/content/Pegion.jpg', target_size=(120,120))\n",
        "img1 = image.img_to_array(img1)\n",
        "img1 = np.expand_dims(img1,axis=0)\n",
        "pred = np.argmax(model.predict(img1))\n",
        "print(pred)\n",
        "output = ['blasti','bonegl', 'brhkyt', 'cbrtsh','cmnmyn', 'gretit', 'hilpig', 'himbul', 'himgri','hsparo','indvul', 'jglowl', 'lbicrw', 'mgprob', 'rebimg', 'wcrsrt']\n",
        "output[pred]"
      ],
      "metadata": {
        "colab": {
          "base_uri": "https://localhost:8080/",
          "height": 70
        },
        "id": "Pd4YUp3D79vm",
        "outputId": "a271a1df-14f6-4b9e-ec69-d6631cece5b5"
      },
      "execution_count": null,
      "outputs": [
        {
          "output_type": "stream",
          "name": "stdout",
          "text": [
            "1/1 [==============================] - 0s 29ms/step\n",
            "4\n"
          ]
        },
        {
          "output_type": "execute_result",
          "data": {
            "text/plain": [
              "'cmnmyn'"
            ],
            "application/vnd.google.colaboratory.intrinsic+json": {
              "type": "string"
            }
          },
          "metadata": {},
          "execution_count": 62
        }
      ]
    },
    {
      "cell_type": "code",
      "source": [
        "#Training 11\n",
        "img1 = image.load_img('/content/Vulture.jpg', target_size=(120,120))\n",
        "img1 = image.img_to_array(img1)\n",
        "img1 = np.expand_dims(img1,axis=0)\n",
        "pred = np.argmax(model.predict(img1))\n",
        "print(pred)\n",
        "output = ['blasti','bonegl', 'brhkyt', 'cbrtsh','cmnmyn', 'gretit', 'hilpig', 'himbul', 'himgri','hsparo','indvul', 'jglowl', 'lbicrw', 'mgprob', 'rebimg', 'wcrsrt']\n",
        "output[pred]"
      ],
      "metadata": {
        "colab": {
          "base_uri": "https://localhost:8080/",
          "height": 70
        },
        "id": "tXjsXKcl79zL",
        "outputId": "456e0f71-1d15-4a88-db31-28c860cfe35f"
      },
      "execution_count": null,
      "outputs": [
        {
          "output_type": "stream",
          "name": "stdout",
          "text": [
            "1/1 [==============================] - 0s 40ms/step\n",
            "4\n"
          ]
        },
        {
          "output_type": "execute_result",
          "data": {
            "text/plain": [
              "'cmnmyn'"
            ],
            "application/vnd.google.colaboratory.intrinsic+json": {
              "type": "string"
            }
          },
          "metadata": {},
          "execution_count": 138
        }
      ]
    },
    {
      "cell_type": "code",
      "source": [
        "#Training 12\n",
        "img1 = image.load_img('/content/avocet.jpg', target_size=(120,120))\n",
        "img1 = image.img_to_array(img1)\n",
        "img1 = np.expand_dims(img1,axis=0)\n",
        "pred = np.argmax(model.predict(img1))\n",
        "print(pred)\n",
        "output = ['blasti','bonegl', 'brhkyt', 'cbrtsh','cmnmyn', 'gretit', 'hilpig', 'himbul', 'himgri','hsparo','indvul', 'jglowl', 'lbicrw', 'mgprob', 'rebimg', 'wcrsrt']\n",
        "output[pred]"
      ],
      "metadata": {
        "colab": {
          "base_uri": "https://localhost:8080/",
          "height": 70
        },
        "id": "9yvM0L2doLnV",
        "outputId": "487ceeaf-fa29-46c4-c40d-35a9baa1cd2d"
      },
      "execution_count": null,
      "outputs": [
        {
          "output_type": "stream",
          "name": "stdout",
          "text": [
            "1/1 [==============================] - 0s 29ms/step\n",
            "4\n"
          ]
        },
        {
          "output_type": "execute_result",
          "data": {
            "text/plain": [
              "'cmnmyn'"
            ],
            "application/vnd.google.colaboratory.intrinsic+json": {
              "type": "string"
            }
          },
          "metadata": {},
          "execution_count": 139
        }
      ]
    },
    {
      "cell_type": "code",
      "source": [
        "#Training 13\n",
        "img1 = image.load_img('/content/eagle.jfif', target_size=(120,120))\n",
        "img1 = image.img_to_array(img1)\n",
        "img1 = np.expand_dims(img1,axis=0)\n",
        "pred = np.argmax(model.predict(img1))\n",
        "print(pred)\n",
        "output = ['blasti','bonegl', 'brhkyt', 'cbrtsh','cmnmyn', 'gretit', 'hilpig', 'himbul', 'himgri','hsparo','indvul', 'jglowl', 'lbicrw', 'mgprob', 'rebimg', 'wcrsrt']\n",
        "output[pred]"
      ],
      "metadata": {
        "colab": {
          "base_uri": "https://localhost:8080/",
          "height": 70
        },
        "id": "VD9oOZVh8LQS",
        "outputId": "dd0972ee-05d5-4359-f23b-d3a3306e4f11"
      },
      "execution_count": null,
      "outputs": [
        {
          "output_type": "stream",
          "name": "stdout",
          "text": [
            "1/1 [==============================] - 0s 45ms/step\n",
            "4\n"
          ]
        },
        {
          "output_type": "execute_result",
          "data": {
            "text/plain": [
              "'cmnmyn'"
            ],
            "application/vnd.google.colaboratory.intrinsic+json": {
              "type": "string"
            }
          },
          "metadata": {},
          "execution_count": 140
        }
      ]
    },
    {
      "cell_type": "code",
      "source": [
        "#Training 14\n",
        "img1 = image.load_img('/content/red-blue-magpie.jfif', target_size=(120,120))\n",
        "img1 = image.img_to_array(img1)\n",
        "img1 = np.expand_dims(img1,axis=0)\n",
        "pred = np.argmax(model.predict(img1))\n",
        "print(pred)\n",
        "output = ['blasti','bonegl', 'brhkyt', 'cbrtsh','cmnmyn', 'gretit', 'hilpig', 'himbul', 'himgri','hsparo','indvul', 'jglowl', 'lbicrw', 'mgprob', 'rebimg', 'wcrsrt']\n",
        "output[pred]"
      ],
      "metadata": {
        "colab": {
          "base_uri": "https://localhost:8080/",
          "height": 70
        },
        "id": "f7E_cU0J8LSp",
        "outputId": "d01fd044-c209-433c-a44a-f9ef3f5fe61d"
      },
      "execution_count": null,
      "outputs": [
        {
          "output_type": "stream",
          "name": "stdout",
          "text": [
            "1/1 [==============================] - 0s 33ms/step\n",
            "4\n"
          ]
        },
        {
          "output_type": "execute_result",
          "data": {
            "text/plain": [
              "'cmnmyn'"
            ],
            "application/vnd.google.colaboratory.intrinsic+json": {
              "type": "string"
            }
          },
          "metadata": {},
          "execution_count": 141
        }
      ]
    },
    {
      "cell_type": "code",
      "source": [
        "#Training 15\n",
        "img1 = image.load_img('/content/sparrow.jpg', target_size=(120,120))\n",
        "img1 = image.img_to_array(img1)\n",
        "img1 = np.expand_dims(img1,axis=0)\n",
        "pred = np.argmax(model.predict(img1))\n",
        "print(pred)\n",
        "output = ['blasti','bonegl', 'brhkyt', 'cbrtsh','cmnmyn', 'gretit', 'hilpig', 'himbul', 'himgri','hsparo','indvul', 'jglowl', 'lbicrw', 'mgprob', 'rebimg', 'wcrsrt']\n",
        "output[pred]"
      ],
      "metadata": {
        "colab": {
          "base_uri": "https://localhost:8080/",
          "height": 70
        },
        "id": "TzL2FxqE8LV_",
        "outputId": "3163a578-b67e-4fcb-8923-4655d8963cfe"
      },
      "execution_count": null,
      "outputs": [
        {
          "output_type": "stream",
          "name": "stdout",
          "text": [
            "1/1 [==============================] - 0s 33ms/step\n",
            "14\n"
          ]
        },
        {
          "output_type": "execute_result",
          "data": {
            "text/plain": [
              "'rebimg'"
            ],
            "application/vnd.google.colaboratory.intrinsic+json": {
              "type": "string"
            }
          },
          "metadata": {},
          "execution_count": 142
        }
      ]
    },
    {
      "cell_type": "code",
      "source": [
        "#Training 16\n",
        "img1 = image.load_img('/content/white-capped-redstart.jfif', target_size=(120,120))\n",
        "img1 = image.img_to_array(img1)\n",
        "img1 = np.expand_dims(img1,axis=0)\n",
        "pred = np.argmax(model.predict(img1))\n",
        "print(pred)\n",
        "output = ['blasti','bonegl', 'brhkyt', 'cbrtsh','cmnmyn', 'gretit', 'hilpig', 'himbul', 'himgri','hsparo','indvul', 'jglowl', 'lbicrw', 'mgprob', 'rebimg', 'wcrsrt']\n",
        "output[pred]"
      ],
      "metadata": {
        "colab": {
          "base_uri": "https://localhost:8080/",
          "height": 70
        },
        "id": "3HudDXuz8LgE",
        "outputId": "c770e966-f751-4de7-e0a3-6524267dad36"
      },
      "execution_count": null,
      "outputs": [
        {
          "output_type": "stream",
          "name": "stdout",
          "text": [
            "1/1 [==============================] - 0s 27ms/step\n",
            "4\n"
          ]
        },
        {
          "output_type": "execute_result",
          "data": {
            "text/plain": [
              "'cmnmyn'"
            ],
            "application/vnd.google.colaboratory.intrinsic+json": {
              "type": "string"
            }
          },
          "metadata": {},
          "execution_count": 143
        }
      ]
    }
  ]
}